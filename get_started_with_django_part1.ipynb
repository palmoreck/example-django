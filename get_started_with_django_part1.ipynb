{
 "cells": [
  {
   "cell_type": "markdown",
   "id": "affected-agriculture",
   "metadata": {},
   "source": [
    "# Docker:"
   ]
  },
  {
   "cell_type": "markdown",
   "id": "noted-certification",
   "metadata": {},
   "source": [
    "```bash\n",
    "\n",
    "docker run --rm -d -v ~/.ssh:/home/miuser/.ssh/ -v $(pwd):/datos --name jupyterlab_django -p 8000:8000 -p 8989:8888 palmoreck/django:3.0.0\n",
    "\n",
    "```"
   ]
  },
  {
   "cell_type": "markdown",
   "id": "stainless-material",
   "metadata": {},
   "source": [
    "# Create Django web application/Django project"
   ]
  },
  {
   "cell_type": "markdown",
   "id": "accredited-wallpaper",
   "metadata": {},
   "source": [
    "Following: \n",
    "\n",
    "https://realpython.com/get-started-with-django-1/\n",
    "\n",
    "https://github.com/realpython/materials/tree/master/rp-portfolio"
   ]
  },
  {
   "cell_type": "markdown",
   "id": "tropical-peripheral",
   "metadata": {},
   "source": [
    "A Django web application is made up of a project and its constituent apps."
   ]
  },
  {
   "cell_type": "markdown",
   "id": "radical-drilling",
   "metadata": {},
   "source": [
    "In bash:"
   ]
  },
  {
   "cell_type": "markdown",
   "id": "divided-things",
   "metadata": {},
   "source": [
    "```bash\n",
    "\n",
    "git clone https://github.com/palmoreck/example-django.git\n",
    "\n",
    "name_django_proj=mydjangoproj\n",
    "\n",
    "cd /datos/example-django/\n",
    "mkdir myproj\n",
    "cd /datos/example-django/myproj\n",
    "django-admin startproject $name_django_proj\n",
    "\n",
    "mv $name_django_proj/manage.py ./\n",
    "mv $name_django_proj/$name_django_proj/* $name_django_proj\n",
    "rm -r $name_django_proj/$name_django_proj/\n",
    "\n",
    "python3 manage.py migrate #if run it will create db.sqlite3 file\n",
    "\n",
    "```"
   ]
  },
  {
   "cell_type": "markdown",
   "id": "outdoor-repair",
   "metadata": {},
   "source": [
    "```bash\n",
    "#next is not necessary\n",
    "\n",
    "python3 manage.py runserver 0.0.0.0:8000\n",
    "\n",
    "#if executed then go to localhost:8000 \n",
    "#Can be stopped with ctrl+c\n",
    "```\n",
    "\n"
   ]
  },
  {
   "cell_type": "markdown",
   "id": "frequent-cocktail",
   "metadata": {},
   "source": [
    "List:"
   ]
  },
  {
   "cell_type": "markdown",
   "id": "headed-liberty",
   "metadata": {},
   "source": [
    "```bash\n",
    "\n",
    "ls /datos/example-django/myproj/*\n",
    "/datos/example-django/myproj/db.sqlite3  /datos/example-django/myproj/manage.py\n",
    "\n",
    "/datos/example-django/myproj/mydjangoproj:\n",
    "__init__.py  __pycache__  asgi.py  settings.py  urls.py  wsgi.py\n",
    "```"
   ]
  },
  {
   "cell_type": "markdown",
   "id": "neutral-latter",
   "metadata": {},
   "source": [
    "A Django website consists of a single project that is split into separate apps. The idea is that each app handles a self-contained function that the site needs to perform. Each piece of functionality should be a different Django app inside a single Django project.\n",
    "\n",
    "Each application can have its own database and has its own functions to control how the data is displayed to the user in HTML templates.\n",
    "\n",
    "Each application also has its own URLs as well as its own HTML templates and static files, such as JavaScript and CSS."
   ]
  },
  {
   "cell_type": "markdown",
   "id": "perfect-calvin",
   "metadata": {},
   "source": [
    "Django apps are structured so that there is a separation of logic. It supports the Model-View-Controller Pattern, which is the architecture on which most web frameworks are built. The basic principle is that in each application there are three separate files that handle the three main pieces of logic separately:\n",
    "\n",
    "* Model defines the data structure. This is usually a database and is the base layer to an application.\n",
    "\n",
    "* View displays some or all of the data to the user with HTML and CSS.\n",
    "\n",
    "* Controller handles how the database and the view interact.\n",
    "\n",
    "\n",
    "In Django, the architecture is slightly different. The pattern Django utilizes is called the Model-View-Template (MVT) pattern. The view and template in the MVT pattern make up the view in the MVC pattern. All you need to do is add some URL configurations to map the views to, and Django handles the rest!  There’s no need to define how the database and views interact."
   ]
  },
  {
   "cell_type": "markdown",
   "id": "photographic-activity",
   "metadata": {},
   "source": [
    "---\n",
    "\n",
    "Check: [Bootstrap](https://getbootstrap.com/)\n",
    "\n",
    "---"
   ]
  },
  {
   "cell_type": "markdown",
   "id": "collectible-power",
   "metadata": {},
   "source": [
    "# Create a Django Application\n"
   ]
  },
  {
   "cell_type": "markdown",
   "id": "revised-bachelor",
   "metadata": {},
   "source": [
    "Following: \n",
    "\n",
    "https://realpython.com/get-started-with-django-1/\n",
    "\n",
    "https://github.com/realpython/materials/tree/master/rp-portfolio"
   ]
  },
  {
   "cell_type": "markdown",
   "id": "nominated-display",
   "metadata": {},
   "source": [
    "In bash:\n"
   ]
  },
  {
   "cell_type": "markdown",
   "id": "electoral-composition",
   "metadata": {},
   "source": [
    "```bash\n",
    "\n",
    "cd /datos/example-django/myproj\n",
    "python3 manage.py startapp hello_world\n",
    "\n",
    "```"
   ]
  },
  {
   "cell_type": "markdown",
   "id": "sustained-strain",
   "metadata": {},
   "source": [
    "```bash\n",
    "ls /datos/example-django/myproj/hello_world/\n",
    "__init__.py  admin.py  apps.py  migrations  models.py  tests.py  views.py\n",
    "```"
   ]
  },
  {
   "cell_type": "markdown",
   "id": "finnish-consultation",
   "metadata": {},
   "source": [
    "* `__init__.py` tells Python to treat the directory as a Python package.\n",
    "\n",
    "* admin.py contains settings for the Django admin pages.\n",
    "\n",
    "* apps.py contains settings for the application configuration.\n",
    "\n",
    "* models.py contains a series of classes that Django’s  Object Relational Mapper (ORM) converts to database tables.\n",
    "\n",
    "* tests.py contains test classes.\n",
    "\n",
    "* views.py contains functions and classes that handle what data is displayed in the HTML templates.\n",
    "\n",
    "* migrations dir contains file `__init__.py` and will hold the migrations."
   ]
  },
  {
   "cell_type": "markdown",
   "id": "gentle-belarus",
   "metadata": {},
   "source": [
    "Once you’ve created the app, you need to install it in your project. In `/datos/example-django/myproj/mydjangoproj/settings.py`, add the following line of code under `INSTALLED_APPS`:"
   ]
  },
  {
   "cell_type": "markdown",
   "id": "heated-canada",
   "metadata": {},
   "source": [
    "```bash\n",
    "\n",
    "INSTALLED_APPS = [\n",
    "    'django.contrib.admin',\n",
    "    'django.contrib.auth',\n",
    "    'django.contrib.contenttypes',\n",
    "    'django.contrib.sessions',\n",
    "    'django.contrib.messages',\n",
    "    'django.contrib.staticfiles',\n",
    "    'hello_world',\n",
    "]\n",
    "\n",
    "```"
   ]
  },
  {
   "cell_type": "markdown",
   "id": "congressional-fetish",
   "metadata": {},
   "source": [
    "That line of code means that your project now knows that the app you just created exists. "
   ]
  },
  {
   "cell_type": "markdown",
   "id": "educated-estonia",
   "metadata": {},
   "source": [
    "## Admin"
   ]
  },
  {
   "cell_type": "markdown",
   "id": "parallel-feeling",
   "metadata": {},
   "source": [
    "From:\n",
    "\n",
    "https://realpython.com/customize-django-admin-python/"
   ]
  },
  {
   "cell_type": "markdown",
   "id": "empirical-ottawa",
   "metadata": {},
   "source": [
    "The Django framework comes with a powerful administrative tool called admin. You can use it out of the box to quickly add, delete, or edit any database model from a web interface. But with a little extra code, you can customize the Django admin to take your admin capabilities to the next level.\n",
    "\n",
    "The Django admin provides a web-based interface for creating and managing database model objects"
   ]
  },
  {
   "cell_type": "markdown",
   "id": "sufficient-hunger",
   "metadata": {},
   "source": [
    "You’re interested in two of these files:\n",
    "\n",
    "* models.py defines your database models.\n",
    "\n",
    "* admin.py registers your models with the Django admin.\n"
   ]
  },
  {
   "cell_type": "markdown",
   "id": "civic-monroe",
   "metadata": {},
   "source": [
    "From:\n",
    "\n",
    "https://realpython.com/get-started-with-django-1/#projects-app-models"
   ]
  },
  {
   "cell_type": "markdown",
   "id": "relevant-daughter",
   "metadata": {},
   "source": [
    "If you want to store data to display on a website, then you’ll need a database. Typically, if you want to create a database with tables and columns within those tables, you’ll need to use SQL to manage the database. But when you use Django, you don’t need to learn a new language because it has a built-in Object Relational Mapper (ORM)."
   ]
  },
  {
   "cell_type": "markdown",
   "id": "chronic-salad",
   "metadata": {},
   "source": [
    "An ORM is a program that allows you to create classes that correspond to database tables. Class attributes correspond to columns, and instances of the classes correspond to rows in the database. So, instead of learning a whole new language to create our database and its tables, we can just write some Python classes.\n",
    "\n",
    "When you’re using an ORM, the classes you build that represent database tables are referred to as models. In Django, they live in the models.py module of each Django app."
   ]
  },
  {
   "cell_type": "markdown",
   "id": "falling-queens",
   "metadata": {},
   "source": [
    "From:\n",
    "\n",
    "https://realpython.com/customize-django-admin-python/"
   ]
  },
  {
   "cell_type": "markdown",
   "id": "black-thinking",
   "metadata": {},
   "source": [
    "Edit `/datos/example-django/myproj/hello_world/models.py`"
   ]
  },
  {
   "cell_type": "markdown",
   "id": "wireless-parameter",
   "metadata": {},
   "source": [
    "```python\n",
    "\n",
    "from django.core.validators import MinValueValidator, MaxValueValidator\n",
    "from django.db import models\n",
    "\n",
    "class Person(models.Model):\n",
    "    last_name = models.TextField()\n",
    "    first_name = models.TextField()\n",
    "    courses = models.ManyToManyField(\"Course\", blank=True)\n",
    "\n",
    "    class Meta:\n",
    "        verbose_name_plural = \"People\"\n",
    "\n",
    "class Course(models.Model):\n",
    "    name = models.TextField()\n",
    "    year = models.IntegerField()\n",
    "\n",
    "    class Meta:\n",
    "        unique_together = (\"name\", \"year\", )\n",
    "\n",
    "class Grade(models.Model):\n",
    "    person = models.ForeignKey(Person, on_delete=models.CASCADE)\n",
    "    grade = models.PositiveSmallIntegerField(\n",
    "        validators=[MinValueValidator(0), MaxValueValidator(100)])\n",
    "    course = models.ForeignKey(Course, on_delete=models.CASCADE)\n",
    "\n",
    "```    "
   ]
  },
  {
   "cell_type": "markdown",
   "id": "abandoned-television",
   "metadata": {},
   "source": [
    "<img src=\"https://files.realpython.com/media/customize-django-admin-db.ba7ba1f27a98.png?dl=0\" heigth=\"250\" width=\"250\">"
   ]
  },
  {
   "cell_type": "markdown",
   "id": "prime-antarctica",
   "metadata": {},
   "source": [
    "The underlying table names in the database are slightly different from this, but they’re related to the models shown above."
   ]
  },
  {
   "cell_type": "markdown",
   "id": "under-circle",
   "metadata": {},
   "source": [
    "From:\n",
    "\n",
    "https://realpython.com/get-started-with-django-1/#projects-app-models\n",
    "\n",
    "Django models come with many [built-in model field types](https://docs.djangoproject.com/en/3.1/ref/models/fields/). Examples:"
   ]
  },
  {
   "cell_type": "markdown",
   "id": "reserved-beginning",
   "metadata": {},
   "source": [
    "* CharField is used for short strings and specifies a maximum length.\n",
    "\n",
    "* TextField is similar to CharField but can be used for longer form text as it doesn’t have a maximum length limit. \n",
    "\n",
    "* FilePathField also holds a string but must point to a file path name."
   ]
  },
  {
   "cell_type": "markdown",
   "id": "passing-corpus",
   "metadata": {},
   "source": [
    "We need Django to create the database. By default, the Django ORM creates databases in SQLite, but you can use other databases that use the SQL language, such as PostgreSQL or MySQL, with the Django ORM."
   ]
  },
  {
   "cell_type": "markdown",
   "id": "introductory-police",
   "metadata": {},
   "source": [
    "To start the process of creating our database, we need to create a migration. A migration is a file containing a Migration class with rules that tell Django what changes need to be made to the database. To create the migration, type the following command in the console, making sure you’re in the `myproj` directory:"
   ]
  },
  {
   "cell_type": "markdown",
   "id": "promising-magic",
   "metadata": {},
   "source": [
    "```bash\n",
    "\n",
    "cd /datos/example-django/myproj\n",
    "\n",
    "python3 manage.py makemigrations hello_world\n",
    "\n",
    "\n",
    "Migrations for 'hello_world':\n",
    "  hello_world/migrations/0001_initial.py\n",
    "    - Create model Course\n",
    "    - Create model Person\n",
    "    - Create model Grade\n",
    "\n",
    "```"
   ]
  },
  {
   "cell_type": "markdown",
   "id": "silver-environment",
   "metadata": {},
   "source": [
    "You should see that a file `/datos/example-django/myproj/hello_world/migrations/0001_initial.py` has been created in the projects app. "
   ]
  },
  {
   "cell_type": "markdown",
   "id": "fancy-review",
   "metadata": {},
   "source": [
    "```bash\n",
    "\n",
    "ls /datos/example-django/myproj/hello_world/migrations/\n",
    "\n",
    "0001_initial.py  __init__.py  __pycache__\n",
    "\n",
    "```"
   ]
  },
  {
   "cell_type": "markdown",
   "id": "intended-bachelor",
   "metadata": {},
   "source": [
    "Content:\n",
    "\n",
    "```bash\n",
    "\n",
    "cat /datos/example-django/myproj/hello_world/migrations/0001_initial.py\n",
    "\n",
    "# Generated by Django 3.1.7 on 2021-03-19 02:36\n",
    "\n",
    "import django.core.validators\n",
    "from django.db import migrations, models\n",
    "import django.db.models.deletion\n",
    "\n",
    "\n",
    "class Migration(migrations.Migration):\n",
    "\n",
    "    initial = True\n",
    "\n",
    "    dependencies = [\n",
    "    ]\n",
    "\n",
    "    operations = [\n",
    "        migrations.CreateModel(\n",
    "            name='Course',\n",
    "            fields=[\n",
    "                ('id', models.AutoField(auto_created=True, primary_key=True, serialize=False, verbose_name='ID')),\n",
    "                ('name', models.TextField()),\n",
    "                ('year', models.IntegerField()),\n",
    "            ],\n",
    "            options={\n",
    "                'unique_together': {('name', 'year')},\n",
    "            },\n",
    "        ),\n",
    "        migrations.CreateModel(\n",
    "            name='Person',\n",
    "            fields=[\n",
    "                ('id', models.AutoField(auto_created=True, primary_key=True, serialize=False, verbose_name='ID')),\n",
    "                ('last_name', models.TextField()),\n",
    "                ('first_name', models.TextField()),\n",
    "                ('courses', models.ManyToManyField(blank=True, to='hello_world.Course')),\n",
    "            ],\n",
    "            options={\n",
    "                'verbose_name_plural': 'People',\n",
    "            },\n",
    "        ),\n",
    "        migrations.CreateModel(\n",
    "            name='Grade',\n",
    "            fields=[\n",
    "                ('id', models.AutoField(auto_created=True, primary_key=True, serialize=False, verbose_name='ID')),\n",
    "                ('grade', models.PositiveSmallIntegerField(validators=[django.core.validators.MinValueValidator(0), django.core.validators.MaxValueValidator(100)])),\n",
    "                ('course', models.ForeignKey(on_delete=django.db.models.deletion.CASCADE, to='hello_world.course')),\n",
    "                ('person', models.ForeignKey(on_delete=django.db.models.deletion.CASCADE, to='hello_world.person')),\n",
    "            ],\n",
    "        ),\n",
    "    ]\n",
    "\n",
    "```"
   ]
  },
  {
   "cell_type": "markdown",
   "id": "returning-tourist",
   "metadata": {},
   "source": [
    "Now that you’ve create a migration file, you need to apply the migrations set out in the migrations file and create your database using the `migrate` command:"
   ]
  },
  {
   "cell_type": "markdown",
   "id": "sweet-trick",
   "metadata": {},
   "source": [
    "```bash\n",
    "\n",
    "cd /datos/example-django/myproj/\n",
    "\n",
    "python3 manage.py migrate hello_world\n",
    "\n",
    "Operations to perform:\n",
    "  Apply all migrations: hello_world\n",
    "Running migrations:\n",
    "  Applying hello_world.0001_initial... OK\n",
    "\n",
    "```"
   ]
  },
  {
   "cell_type": "markdown",
   "id": "excited-creature",
   "metadata": {},
   "source": [
    "**Note:** If you run makemigrations and migrate without the `hello_world` flag, then all migrations for all the default models in your Django projects will be created and applied."
   ]
  },
  {
   "cell_type": "markdown",
   "id": "suffering-great",
   "metadata": {},
   "source": [
    "Enter python3:"
   ]
  },
  {
   "cell_type": "markdown",
   "id": "unable-eating",
   "metadata": {},
   "source": [
    "```python\n",
    "import os\n",
    "os.chdir(\"/datos/example-django/myproj\")\n",
    "os.environ.setdefault(\"DJANGO_SETTINGS_MODULE\", \"mydjangoproj.settings\")\n",
    "import django\n",
    "django.setup()\n",
    "from hello_world.models import Grade, Person, Course\n",
    "\n",
    "person = Person(last_name=\"Viz\", first_name=\"Tre\")\n",
    "\n",
    "course = Course(name=\"La\", year=18)\n",
    "\n",
    "grade = Grade(person=person, grade=10, course=course)\n",
    "\n",
    "person.save()\n",
    "\n",
    "course.save()\n",
    "\n",
    "grade.save()\n",
    "\n",
    "###Next just to check!!!\n",
    "\n",
    "import sqlite3\n",
    "\n",
    "connection = sqlite3.connect(\"db.sqlite3\")\n",
    "cursor = connection.cursor()\n",
    "\n",
    "cursor.execute(\"SELECT name FROM sqlite_master WHERE type='table';\")\n",
    "\n",
    "print(cursor.fetchall())\n",
    "\n",
    "```"
   ]
  },
  {
   "cell_type": "markdown",
   "id": "purple-channel",
   "metadata": {},
   "source": [
    "Output:\n",
    "\n",
    "```\n",
    "[('django_migrations',), ('sqlite_sequence',), ('auth_group_permissions',), ('auth_user_groups',), ('auth_user_user_permissions',), ('django_admin_log',), ('django_content_type',), ('auth_permission',), ('auth_group',), ('auth_user',), ('django_session',), ('hello_world_course',), ('hello_world_person',), ('hello_world_person_courses',), ('hello_world_grade',)]\n",
    "```"
   ]
  },
  {
   "cell_type": "markdown",
   "id": "cosmetic-stake",
   "metadata": {},
   "source": [
    "```python\n",
    "\n",
    "rows = cursor.execute(\"SELECT * FROM hello_world_grade\").fetchall()\n",
    "print(rows)\n",
    "\n",
    "rows = cursor.execute(\"SELECT * FROM hello_world_person\").fetchall()\n",
    "print(rows)\n",
    "\n",
    "rows = cursor.execute(\"SELECT * FROM hello_world_course\").fetchall()\n",
    "print(rows)\n",
    "```"
   ]
  },
  {
   "cell_type": "markdown",
   "id": "unlike-duncan",
   "metadata": {},
   "source": [
    "## Migrations"
   ]
  },
  {
   "cell_type": "markdown",
   "id": "plastic-douglas",
   "metadata": {},
   "source": [
    "Next entry from: https://docs.djangoproject.com/en/3.1/topics/migrations/\n",
    "\n",
    "Migrations are Django’s way of propagating changes you make to your models (adding a field, deleting a model, etc.) into your database schema. They’re designed to be mostly automatic, but you’ll need to know when to make migrations, when to run them, and the common problems you might run into."
   ]
  },
  {
   "cell_type": "markdown",
   "id": "timely-dating",
   "metadata": {},
   "source": [
    "See: [the-commands in migrations](https://docs.djangoproject.com/en/3.1/topics/migrations/#the-commands)\n",
    "\n",
    "\n",
    "* migrate, which is responsible for applying and unapplying migrations.\n",
    "\n",
    "* makemigrations, which is responsible for creating new migrations based on the changes you have made to your models.\n",
    "\n",
    "* sqlmigrate, which displays the SQL statements for a migration.\n",
    "\n",
    "* showmigrations, which lists a project’s migrations and their status.\n",
    "\n",
    "\n",
    "You should think of migrations as a **version control system** for your database schema. `makemigrations` is responsible for packaging up your model changes into individual migration files - analogous to commits - and migrate is responsible for applying those to your database.\n",
    "\n",
    "The migration files for each app live in a “migrations” directory inside of that app, and are designed to be committed to, and distributed as part of, its codebase. You should be making them once on your development machine and then running the same migrations on your colleagues’ machines, your staging machines, and eventually your production machines."
   ]
  },
  {
   "cell_type": "markdown",
   "id": "decent-modeling",
   "metadata": {},
   "source": [
    "Migrations will run the same way on the same dataset and produce consistent results, meaning that what you see in development and staging is, under the same circumstances, exactly what will happen in production.\n",
    "\n",
    "Django will make migrations for any change to your models or fields - even options that don’t affect the database - as the only way it can reconstruct a field correctly **is to have all the changes in the history**, and you might need those options in some data migrations later on (for example, if you’ve set custom validators)."
   ]
  },
  {
   "cell_type": "markdown",
   "id": "accompanied-district",
   "metadata": {},
   "source": [
    "# Other usefull links:"
   ]
  },
  {
   "cell_type": "markdown",
   "id": "dangerous-wisdom",
   "metadata": {},
   "source": [
    "* https://realpython.com/tutorials/django/\n",
    "\n",
    "* https://dev.to/idrisrampurawala/creating-django-models-of-an-existing-db-288m\n",
    "\n",
    "* https://docs.djangoproject.com/en/3.1/howto/legacy-databases/"
   ]
  }
 ],
 "metadata": {
  "kernelspec": {
   "display_name": "Python 3",
   "language": "python",
   "name": "python3"
  },
  "language_info": {
   "codemirror_mode": {
    "name": "ipython",
    "version": 3
   },
   "file_extension": ".py",
   "mimetype": "text/x-python",
   "name": "python",
   "nbconvert_exporter": "python",
   "pygments_lexer": "ipython3",
   "version": "3.6.9"
  }
 },
 "nbformat": 4,
 "nbformat_minor": 5
}
