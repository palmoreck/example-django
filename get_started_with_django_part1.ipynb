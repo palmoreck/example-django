{
 "cells": [
  {
   "cell_type": "markdown",
   "id": "sapphire-tuition",
   "metadata": {},
   "source": [
    "# Docker:"
   ]
  },
  {
   "cell_type": "markdown",
   "id": "medieval-compensation",
   "metadata": {},
   "source": [
    "```bash\n",
    "\n",
    "docker run --rm -d -v ~/.ssh:/home/miuser/.ssh/ -v $(pwd):/datos --name jupyterlab_django -p 8000:8000 -p 8989:8888 palmoreck/django:3.0.0\n",
    "\n",
    "```"
   ]
  },
  {
   "cell_type": "markdown",
   "id": "wireless-coach",
   "metadata": {},
   "source": [
    "# Create Django project"
   ]
  },
  {
   "cell_type": "markdown",
   "id": "correct-recognition",
   "metadata": {},
   "source": [
    "Following: \n",
    "\n",
    "https://realpython.com/get-started-with-django-1/\n",
    "\n",
    "https://github.com/realpython/materials/tree/master/rp-portfolio"
   ]
  },
  {
   "cell_type": "markdown",
   "id": "solid-greece",
   "metadata": {},
   "source": [
    "```bash\n",
    "\n",
    "git clone https://github.com/palmoreck/example-django.git\n",
    "\n",
    "name_django_proj=mydjangoproj\n",
    "\n",
    "cd /datos/example-django/\n",
    "mkdir myproj\n",
    "cd /datos/example-django/myproj\n",
    "django-admin startproject $name_django_proj\n",
    "\n",
    "mv $name_django_proj/manage.py ./\n",
    "mv $name_django_proj/$name_django_proj/* $name_django_proj\n",
    "rm -r $name_django_proj/$name_django_proj/\n",
    "\n",
    "python3 manage.py migrate #if run it will create db.sqlite3 file:\n",
    "\n",
    "```"
   ]
  },
  {
   "cell_type": "markdown",
   "id": "dental-depression",
   "metadata": {},
   "source": [
    "```bash\n",
    "\n",
    "python3 manage.py runserver 0.0.0.0:8000\n",
    "```\n",
    "\n"
   ]
  },
  {
   "cell_type": "markdown",
   "id": "limiting-opposition",
   "metadata": {},
   "source": [
    "List:"
   ]
  },
  {
   "cell_type": "markdown",
   "id": "polish-definition",
   "metadata": {},
   "source": [
    "```bash\n",
    "\n",
    "ls /datos/example-django/myproj/*\n",
    "/datos/example-django/myproj/db.sqlite3  /datos/example-django/myproj/manage.py\n",
    "\n",
    "/datos/example-django/myproj/mydjangoproj:\n",
    "__init__.py  __pycache__  asgi.py  settings.py  urls.py  wsgi.py\n",
    "```"
   ]
  },
  {
   "cell_type": "markdown",
   "id": "introductory-table",
   "metadata": {},
   "source": [
    "A Django website consists of a single project that is split into separate apps. The idea is that each app handles a self-contained function that the site needs to perform. Each piece of functionality should be a different Django app inside a single Django project.\n",
    "\n",
    "Each application can have its own database and has its own functions to control how the data is displayed to the user in HTML templates.\n",
    "\n",
    "Each application also has its own URLs as well as its own HTML templates and static files, such as JavaScript and CSS."
   ]
  },
  {
   "cell_type": "markdown",
   "id": "efficient-carrier",
   "metadata": {},
   "source": [
    "Django apps are structured so that there is a separation of logic. It supports the Model-View-Controller Pattern, which is the architecture on which most web frameworks are built. The basic principle is that in each application there are three separate files that handle the three main pieces of logic separately:\n",
    "\n",
    "* Model defines the data structure. This is usually a database and is the base layer to an application.\n",
    "\n",
    "* View displays some or all of the data to the user with HTML and CSS.\n",
    "\n",
    "* Controller handles how the database and the view interact.\n",
    "\n",
    "\n",
    "In Django, the architecture is slightly different. The pattern Django utilizes is called the Model-View-Template (MVT) pattern. The view and template in the MVT pattern make up the view in the MVC pattern. All you need to do is add some URL configurations to map the views to, and Django handles the rest!  There’s no need to define how the database and views interact."
   ]
  },
  {
   "cell_type": "markdown",
   "id": "premier-section",
   "metadata": {},
   "source": [
    "---\n",
    "\n",
    "Check: [Bootstrap](https://getbootstrap.com/)\n",
    "\n",
    "---"
   ]
  },
  {
   "cell_type": "markdown",
   "id": "biblical-trading",
   "metadata": {},
   "source": [
    "# Create a Django Application\n"
   ]
  },
  {
   "cell_type": "markdown",
   "id": "lasting-truth",
   "metadata": {},
   "source": [
    "Following: \n",
    "\n",
    "https://realpython.com/get-started-with-django-1/\n",
    "\n",
    "https://github.com/realpython/materials/tree/master/rp-portfolio"
   ]
  },
  {
   "cell_type": "markdown",
   "id": "logical-parallel",
   "metadata": {},
   "source": [
    "```bash\n",
    "\n",
    "cd /datos/example-django/myproj\n",
    "python3 manage.py startapp hello_world\n",
    "\n",
    "```"
   ]
  },
  {
   "cell_type": "markdown",
   "id": "missing-carol",
   "metadata": {},
   "source": [
    "```bash\n",
    "ls /datos/example-django/myproj/hello_world/\n",
    "__init__.py  admin.py  apps.py  migrations  models.py  tests.py  views.py\n",
    "```"
   ]
  },
  {
   "cell_type": "markdown",
   "id": "clear-castle",
   "metadata": {},
   "source": [
    "* __init__.py tells Python to treat the directory as a Python package.\n",
    "\n",
    "* admin.py contains settings for the Django admin pages.\n",
    "\n",
    "* apps.py contains settings for the application configuration.\n",
    "\n",
    "* models.py contains a series of classes that Django’s ORM converts to database tables.\n",
    "\n",
    "* tests.py contains test classes.\n",
    "\n",
    "* views.py contains functions and classes that handle what data is displayed in the HTML templates.\n",
    "\n",
    "* migrations dir contains file `__init__.py`."
   ]
  },
  {
   "cell_type": "markdown",
   "id": "historic-stock",
   "metadata": {},
   "source": [
    "## Migrations"
   ]
  },
  {
   "cell_type": "markdown",
   "id": "speaking-hydrogen",
   "metadata": {},
   "source": [
    "Next entry from: https://docs.djangoproject.com/en/3.1/topics/migrations/\n",
    "\n",
    "Migrations are Django’s way of propagating changes you make to your models (adding a field, deleting a model, etc.) into your database schema. They’re designed to be mostly automatic, but you’ll need to know when to make migrations, when to run them, and the common problems you might run into."
   ]
  },
  {
   "cell_type": "markdown",
   "id": "soviet-morning",
   "metadata": {},
   "source": [
    "See: [the-commands in migrations](https://docs.djangoproject.com/en/3.1/topics/migrations/#the-commands)\n",
    "\n",
    "\n",
    "* migrate, which is responsible for applying and unapplying migrations.\n",
    "\n",
    "* makemigrations, which is responsible for creating new migrations based on the changes you have made to your models.\n",
    "\n",
    "* sqlmigrate, which displays the SQL statements for a migration.\n",
    "\n",
    "* showmigrations, which lists a project’s migrations and their status.\n",
    "\n",
    "\n",
    "You should think of migrations as a version control system for your database schema. makemigrations is responsible for packaging up your model changes into individual migration files - analogous to commits - and migrate is responsible for applying those to your database.\n",
    "\n",
    "The migration files for each app live in a “migrations” directory inside of that app, and are designed to be committed to, and distributed as part of, its codebase. You should be making them once on your development machine and then running the same migrations on your colleagues’ machines, your staging machines, and eventually your production machines."
   ]
  },
  {
   "cell_type": "code",
   "execution_count": null,
   "id": "external-female",
   "metadata": {},
   "outputs": [],
   "source": []
  },
  {
   "cell_type": "markdown",
   "id": "norman-liquid",
   "metadata": {},
   "source": [
    "From:\n",
    "\n",
    "https://realpython.com/customize-django-admin-python/"
   ]
  },
  {
   "cell_type": "markdown",
   "id": "premium-network",
   "metadata": {},
   "source": [
    "The Django framework comes with a powerful administrative tool called admin. You can use it out of the box to quickly add, delete, or edit any database model from a web interface. But with a little extra code, you can customize the Django admin to take your admin capabilities to the next level.\n",
    "\n",
    "The Django admin provides a web-based interface for creating and managing database model objects"
   ]
  },
  {
   "cell_type": "code",
   "execution_count": null,
   "id": "religious-elephant",
   "metadata": {},
   "outputs": [],
   "source": []
  }
 ],
 "metadata": {
  "kernelspec": {
   "display_name": "Python 3",
   "language": "python",
   "name": "python3"
  },
  "language_info": {
   "codemirror_mode": {
    "name": "ipython",
    "version": 3
   },
   "file_extension": ".py",
   "mimetype": "text/x-python",
   "name": "python",
   "nbconvert_exporter": "python",
   "pygments_lexer": "ipython3",
   "version": "3.6.9"
  }
 },
 "nbformat": 4,
 "nbformat_minor": 5
}
