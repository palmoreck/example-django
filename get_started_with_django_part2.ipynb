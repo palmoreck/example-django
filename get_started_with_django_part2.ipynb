{
 "cells": [
  {
   "cell_type": "markdown",
   "id": "boxed-tiger",
   "metadata": {},
   "source": [
    "# Docker:"
   ]
  },
  {
   "cell_type": "markdown",
   "id": "finite-forum",
   "metadata": {},
   "source": [
    "```bash\n",
    "\n",
    "docker run --rm -d -v $(pwd):/datos --name jupyterlab_django -p 8000:8000 -p 8989:8888 palmoreck/django:3.0.0\n",
    "\n",
    "```"
   ]
  },
  {
   "cell_type": "markdown",
   "id": "attractive-baptist",
   "metadata": {},
   "source": [
    "# Example for some satellital data"
   ]
  },
  {
   "cell_type": "markdown",
   "id": "genuine-runner",
   "metadata": {},
   "source": [
    "From:\n",
    "\n",
    "https://realpython.com/get-started-with-django-1/#blog-app-models\n",
    "\n",
    "and:\n",
    "\n",
    "https://docs.djangoproject.com/en/3.1/topics/db/examples/many_to_many/"
   ]
  },
  {
   "cell_type": "code",
   "execution_count": 1,
   "id": "stretch-packing",
   "metadata": {},
   "outputs": [
    {
     "name": "stdout",
     "output_type": "stream",
     "text": [
      "Operations to perform:\n",
      "  Apply all migrations: admin, auth, contenttypes, sessions\n",
      "Running migrations:\n",
      "  Applying contenttypes.0001_initial... OK\n",
      "  Applying auth.0001_initial... OK\n",
      "  Applying admin.0001_initial... OK\n",
      "  Applying admin.0002_logentry_remove_auto_add... OK\n",
      "  Applying admin.0003_logentry_add_action_flag_choices... OK\n",
      "  Applying contenttypes.0002_remove_content_type_name... OK\n",
      "  Applying auth.0002_alter_permission_name_max_length... OK\n",
      "  Applying auth.0003_alter_user_email_max_length... OK\n",
      "  Applying auth.0004_alter_user_username_opts... OK\n",
      "  Applying auth.0005_alter_user_last_login_null... OK\n",
      "  Applying auth.0006_require_contenttypes_0002... OK\n",
      "  Applying auth.0007_alter_validators_add_error_messages... OK\n",
      "  Applying auth.0008_alter_user_username_max_length... OK\n",
      "  Applying auth.0009_alter_user_last_name_max_length... OK\n",
      "  Applying auth.0010_alter_group_name_max_length... OK\n",
      "  Applying auth.0011_update_proxy_permissions... OK\n",
      "  Applying auth.0012_alter_user_first_name_max_length... OK\n",
      "  Applying sessions.0001_initial... OK\n"
     ]
    }
   ],
   "source": [
    "%%bash\n",
    "name_django_proj=mydjangoproj\n",
    "\n",
    "cd /datos/example-django/\n",
    "mkdir myproj\n",
    "cd /datos/example-django/myproj\n",
    "/home/miuser/.local/bin/django-admin startproject $name_django_proj\n",
    "\n",
    "mv $name_django_proj/manage.py ./\n",
    "mv $name_django_proj/$name_django_proj/* $name_django_proj\n",
    "rm -r $name_django_proj/$name_django_proj/\n",
    "\n",
    "python3 manage.py migrate #if run it will create db.sqlite3 file\n"
   ]
  },
  {
   "cell_type": "code",
   "execution_count": 2,
   "id": "instrumental-integration",
   "metadata": {},
   "outputs": [],
   "source": [
    "%%bash\n",
    "cd /datos/example-django/myproj\n",
    "python3 manage.py startapp satellital_images"
   ]
  },
  {
   "cell_type": "code",
   "execution_count": 3,
   "id": "respected-expert",
   "metadata": {},
   "outputs": [],
   "source": [
    "%%bash\n",
    "file=/datos/example-django/myproj/mydjangoproj/settings.py\n",
    "sed -i \"/'django.contrib.staticfiles',/a \\ \\ \\ \\ 'satellital_images',\" $file"
   ]
  },
  {
   "cell_type": "code",
   "execution_count": 4,
   "id": "furnished-regulation",
   "metadata": {},
   "outputs": [
    {
     "name": "stdout",
     "output_type": "stream",
     "text": [
      "Overwriting /datos/example-django/myproj/satellital_images/models.py\n"
     ]
    }
   ],
   "source": [
    "%%file /datos/example-django/myproj/satellital_images/models.py\n",
    "from django.db import models\n",
    "\n",
    "class Collection(models.Model):\n",
    "    collection_type = models.CharField(unique=True, max_length=5)\n",
    "\n",
    "class Sensor(models.Model):\n",
    "    sensor_type = models.CharField(unique=True, max_length=10)\n",
    "    collection_att = models.ManyToManyField(\"Collection\")\n",
    "\n",
    "class PathRow(models.Model):\n",
    "    path_row_att = models.IntegerField(unique=True)\n",
    "    \n",
    "class Image(models.Model):\n",
    "    download_url = models.CharField(max_length=200, default=None)\n",
    "    sensor_image_att = models.ForeignKey(Sensor, related_name=\"sensor_images\", on_delete=models.CASCADE)\n",
    "    path_row_image_att = models.ForeignKey(PathRow, related_name=\"pathrow_images\", on_delete=models.CASCADE)\n",
    "    collection_image_att = models.ForeignKey(Collection, related_name=\"collection_images\", on_delete=models.CASCADE)\n",
    "    acquisition_date = models.DateTimeField()\n",
    "    "
   ]
  },
  {
   "cell_type": "code",
   "execution_count": 5,
   "id": "interior-private",
   "metadata": {},
   "outputs": [
    {
     "name": "stdout",
     "output_type": "stream",
     "text": [
      "Migrations for 'satellital_images':\n",
      "  satellital_images/migrations/0001_initial.py\n",
      "    - Create model Collection\n",
      "    - Create model PathRow\n",
      "    - Create model Sensor\n",
      "    - Create model Image\n"
     ]
    }
   ],
   "source": [
    "%%bash\n",
    "\n",
    "cd /datos/example-django/myproj\n",
    "\n",
    "python3 manage.py makemigrations \n",
    "\n",
    "#python3 manage.py makemigrations satellital_images"
   ]
  },
  {
   "cell_type": "code",
   "execution_count": 6,
   "id": "pregnant-climate",
   "metadata": {},
   "outputs": [
    {
     "name": "stdout",
     "output_type": "stream",
     "text": [
      "Operations to perform:\n",
      "  Apply all migrations: admin, auth, contenttypes, satellital_images, sessions\n",
      "Running migrations:\n",
      "  Applying satellital_images.0001_initial... OK\n"
     ]
    }
   ],
   "source": [
    "%%bash\n",
    "\n",
    "cd /datos/example-django/myproj/\n",
    "\n",
    "python3 manage.py migrate"
   ]
  },
  {
   "cell_type": "markdown",
   "id": "signal-chain",
   "metadata": {},
   "source": [
    "**Cmd to see query in sql: python3 manage.py sqlmigrate satellital_images 0001_initial.py**"
   ]
  },
  {
   "cell_type": "code",
   "execution_count": 7,
   "id": "magnetic-phase",
   "metadata": {},
   "outputs": [],
   "source": [
    "import os\n",
    "os.chdir(\"/datos/example-django/myproj\")\n",
    "os.environ.setdefault(\"DJANGO_SETTINGS_MODULE\", \"mydjangoproj.settings\")\n",
    "import django\n",
    "django.setup()\n",
    "from satellital_images.models import Collection, PathRow, Sensor"
   ]
  },
  {
   "cell_type": "code",
   "execution_count": 8,
   "id": "incoming-concord",
   "metadata": {},
   "outputs": [],
   "source": [
    "scene_0 = {\"acquisitionDate\": \"2013-03-09\", \n",
    "           \"startTime\": \"2013-03-09\", \n",
    "           \"endTime\": \"2013-03-09\", \n",
    "           \"lowerLeftCoordinate\": {\"latitude\": 18.09711, \"longitude\": -100.57469}, \n",
    "           \"upperLeftCoordinate\": {\"latitude\": 19.81465, \"longitude\": -100.19015}, \n",
    "           \"upperRightCoordinate\": {\"latitude\": 19.47153, \"longitude\": -98.52673}, \n",
    "           \"lowerRightCoordinate\": {\"latitude\": 17.75737, \"longitude\": -98.92825}, \n",
    "           \"spatialFootprint\": {\"type\": \"Polygon\", \n",
    "                                \"coordinates\": [[[-100.57469, 18.09711], \n",
    "                                                 [-98.92825, 17.75737], \n",
    "                                                 [-98.52673, 19.47153], \n",
    "                                                 [-100.19015, 19.81465], \n",
    "                                                 [-100.57469, 18.09711]]]}, \n",
    "           \"sceneBounds\": \"-100.57469,17.75737,-98.52673,19.81465\", \n",
    "           \"browseUrl\": \"https://ims.cr.usgs.gov/browse/landsat_8_c1/2013/026/047/LT08_L1GT_026047_20130309_20170505_01_T2.jpg\", \n",
    "           \"dataAccessUrl\": \"https://earthexplorer.usgs.gov/metadata/full/landsat_8_c1/LT80260472013068LGN02/\", \n",
    "           \"downloadUrl\": \"https://earthexplorer.usgs.gov/download/external/options/landsat_8_c1/LT80260472013068LGN02/EE/\", \n",
    "           \"entityId\": \"LT80260472013068LGN02\", \n",
    "           \"displayId\": \"LT08_L1GT_026047_20130309_20170505_01_T2\", \n",
    "           \"metadataUrl\": \"https://earthexplorer.usgs.gov/metadata/full/landsat_8_c1/LT80260472013068LGN02/?responseType=viewXml\", \n",
    "           \"fgdcMetadataUrl\": \"https://earthexplorer.usgs.gov/metadata/fgdc/landsat_8_c1/LT80260472013068LGN02/\", \n",
    "           \"modifiedDate\": \"2013-03-09 17:01:29\", \n",
    "           \"orderUrl\": \"null\", \n",
    "           \"bulkOrdered\": \"false\", \n",
    "           \"ordered\": \"false\", \n",
    "           \"summary\": \"\"}"
   ]
  },
  {
   "cell_type": "code",
   "execution_count": 9,
   "id": "liquid-lease",
   "metadata": {},
   "outputs": [],
   "source": [
    "download_url = scene_0[\"downloadUrl\"]\n",
    "d = scene_0[\"displayId\"]\n",
    "list_d = d.split(\"_\")\n",
    "sensor=list_d[0]\n",
    "path_row = list_d[2]\n",
    "collection=list_d[5]\n",
    "acq_date = scene_0[\"acquisitionDate\"]"
   ]
  },
  {
   "cell_type": "code",
   "execution_count": 10,
   "id": "addressed-graham",
   "metadata": {},
   "outputs": [],
   "source": [
    "coll = Collection(collection_type=collection)\n",
    "pr = PathRow(path_row_att=path_row)\n",
    "sen = Sensor(sensor_type=sensor)"
   ]
  },
  {
   "cell_type": "code",
   "execution_count": 11,
   "id": "awful-prescription",
   "metadata": {},
   "outputs": [],
   "source": [
    "#next set default to avoid SynchronousOnlyOperation error:\n",
    "#You cannot call this from an async context - use a thread or sync_to_async.\n",
    "os.environ.setdefault(\"DJANGO_ALLOW_ASYNC_UNSAFE\", \"true\")\n",
    "coll.save()\n",
    "pr.save()\n",
    "sen.save()\n",
    "sen.collection_att.add(coll)"
   ]
  },
  {
   "cell_type": "code",
   "execution_count": 12,
   "id": "present-coral",
   "metadata": {},
   "outputs": [],
   "source": [
    "from satellital_images.models import Image"
   ]
  },
  {
   "cell_type": "code",
   "execution_count": 13,
   "id": "animal-value",
   "metadata": {},
   "outputs": [],
   "source": [
    "img = Image(download_url=download_url,\n",
    "            sensor_image_att=sen,\n",
    "            path_row_image_att=pr,\n",
    "            collection_image_att=coll,\n",
    "            acquisition_date=acq_date)"
   ]
  },
  {
   "cell_type": "code",
   "execution_count": 14,
   "id": "proper-benchmark",
   "metadata": {},
   "outputs": [
    {
     "name": "stderr",
     "output_type": "stream",
     "text": [
      "/home/miuser/.local/lib/python3.6/site-packages/django/db/models/fields/__init__.py:1370: RuntimeWarning: DateTimeField Image.acquisition_date received a naive datetime (2013-03-09 00:00:00) while time zone support is active.\n",
      "  RuntimeWarning)\n"
     ]
    }
   ],
   "source": [
    "#next set default to avoid SynchronousOnlyOperation error:\n",
    "#You cannot call this from an async context - use a thread or sync_to_async.\n",
    "os.environ.setdefault(\"DJANGO_ALLOW_ASYNC_UNSAFE\", \"true\")\n",
    "img.save()"
   ]
  },
  {
   "cell_type": "code",
   "execution_count": 15,
   "id": "sitting-homework",
   "metadata": {},
   "outputs": [
    {
     "name": "stdout",
     "output_type": "stream",
     "text": [
      "[('django_migrations',), ('sqlite_sequence',), ('auth_group_permissions',), ('auth_user_groups',), ('auth_user_user_permissions',), ('django_admin_log',), ('django_content_type',), ('auth_permission',), ('auth_group',), ('auth_user',), ('django_session',), ('satellital_images_collection',), ('satellital_images_pathrow',), ('satellital_images_sensor',), ('satellital_images_sensor_collection_att',), ('satellital_images_image',)]\n"
     ]
    }
   ],
   "source": [
    "import sqlite3\n",
    "\n",
    "connection = sqlite3.connect(\"db.sqlite3\")\n",
    "cursor = connection.cursor()\n",
    "\n",
    "cursor.execute(\"SELECT name FROM sqlite_master WHERE type='table';\")\n",
    "\n",
    "print(cursor.fetchall())"
   ]
  },
  {
   "cell_type": "markdown",
   "id": "verbal-bidder",
   "metadata": {},
   "source": [
    "**Next just to check, normally is not necessary to execute:**"
   ]
  },
  {
   "cell_type": "code",
   "execution_count": 16,
   "id": "equipped-shuttle",
   "metadata": {},
   "outputs": [
    {
     "name": "stdout",
     "output_type": "stream",
     "text": [
      "[(1, 'https://earthexplorer.usgs.gov/download/external/options/landsat_8_c1/LT80260472013068LGN02/EE/', '2013-03-09 00:00:00', 1, 1, 1)]\n"
     ]
    }
   ],
   "source": [
    "rows = cursor.execute(\"SELECT * FROM satellital_images_image\").fetchall()\n",
    "print(rows)"
   ]
  },
  {
   "cell_type": "code",
   "execution_count": 17,
   "id": "recognized-hands",
   "metadata": {},
   "outputs": [
    {
     "name": "stdout",
     "output_type": "stream",
     "text": [
      "[(1, '01')]\n"
     ]
    }
   ],
   "source": [
    "rows = cursor.execute(\"SELECT * FROM satellital_images_collection\").fetchall()\n",
    "print(rows)"
   ]
  },
  {
   "cell_type": "code",
   "execution_count": 18,
   "id": "referenced-blogger",
   "metadata": {},
   "outputs": [
    {
     "name": "stdout",
     "output_type": "stream",
     "text": [
      "[(1, 'LT08')]\n"
     ]
    }
   ],
   "source": [
    "rows = cursor.execute(\"SELECT * FROM satellital_images_sensor\").fetchall()\n",
    "print(rows)"
   ]
  },
  {
   "cell_type": "code",
   "execution_count": 19,
   "id": "charged-filename",
   "metadata": {},
   "outputs": [
    {
     "name": "stdout",
     "output_type": "stream",
     "text": [
      "[(1, 1, 1)]\n"
     ]
    }
   ],
   "source": [
    "rows = cursor.execute(\"SELECT * FROM satellital_images_sensor_collection_att\").fetchall()\n",
    "print(rows)"
   ]
  },
  {
   "cell_type": "code",
   "execution_count": 20,
   "id": "featured-movie",
   "metadata": {},
   "outputs": [
    {
     "name": "stdout",
     "output_type": "stream",
     "text": [
      "[(1, 26047)]\n"
     ]
    }
   ],
   "source": [
    "rows = cursor.execute(\"SELECT * FROM satellital_images_pathrow\").fetchall()\n",
    "print(rows)"
   ]
  },
  {
   "cell_type": "markdown",
   "id": "leading-gibson",
   "metadata": {},
   "source": [
    "**If we want to change path_row attribute (column) of PathRow class:**"
   ]
  },
  {
   "cell_type": "code",
   "execution_count": 21,
   "id": "shared-slide",
   "metadata": {},
   "outputs": [
    {
     "name": "stdout",
     "output_type": "stream",
     "text": [
      "Overwriting /datos/example-django/myproj/satellital_images/models.py\n"
     ]
    }
   ],
   "source": [
    "%%file /datos/example-django/myproj/satellital_images/models.py\n",
    "from django.db import models\n",
    "\n",
    "class Collection(models.Model):\n",
    "    collection_type = models.CharField(unique=True, max_length=5)\n",
    "\n",
    "class Sensor(models.Model):\n",
    "    sensor_type = models.CharField(unique=True, max_length=10)\n",
    "    collection_att = models.ManyToManyField(\"Collection\")\n",
    "\n",
    "class PathRow(models.Model):\n",
    "    path_row_att = models.CharField(unique=True,max_length=10)#here the change\n",
    "    \n",
    "class Image(models.Model):\n",
    "    download_url = models.CharField(max_length=200, default=None)\n",
    "    sensor_image_att = models.ForeignKey(Sensor, related_name=\"sensor_images\", on_delete=models.CASCADE)\n",
    "    path_row_image_att = models.ForeignKey(PathRow, related_name=\"pathrow_images\", on_delete=models.CASCADE)\n",
    "    collection_image_att = models.ForeignKey(Collection, related_name=\"collection_images\", on_delete=models.CASCADE)\n",
    "    acquisition_date = models.DateTimeField()\n",
    "    "
   ]
  },
  {
   "cell_type": "markdown",
   "id": "ancient-corruption",
   "metadata": {},
   "source": [
    "**Make migrations and migrate to save changes and apply changes:**"
   ]
  },
  {
   "cell_type": "code",
   "execution_count": 22,
   "id": "supposed-miniature",
   "metadata": {},
   "outputs": [
    {
     "name": "stdout",
     "output_type": "stream",
     "text": [
      "Migrations for 'satellital_images':\n",
      "  satellital_images/migrations/0002_auto_20210323_1611.py\n",
      "    - Alter field path_row_att on pathrow\n"
     ]
    }
   ],
   "source": [
    "%%bash\n",
    "\n",
    "cd /datos/example-django/myproj\n",
    "\n",
    "python3 manage.py makemigrations \n",
    "\n",
    "#python3 manage.py makemigrations satellital_images"
   ]
  },
  {
   "cell_type": "code",
   "execution_count": 23,
   "id": "grateful-alpha",
   "metadata": {},
   "outputs": [
    {
     "name": "stdout",
     "output_type": "stream",
     "text": [
      "Operations to perform:\n",
      "  Apply all migrations: admin, auth, contenttypes, satellital_images, sessions\n",
      "Running migrations:\n",
      "  Applying satellital_images.0002_auto_20210323_1611... OK\n"
     ]
    }
   ],
   "source": [
    "%%bash\n",
    "\n",
    "cd /datos/example-django/myproj/\n",
    "\n",
    "python3 manage.py migrate"
   ]
  },
  {
   "cell_type": "markdown",
   "id": "eastern-keyboard",
   "metadata": {},
   "source": [
    "**Another scene:**"
   ]
  },
  {
   "cell_type": "code",
   "execution_count": 24,
   "id": "super-darwin",
   "metadata": {},
   "outputs": [],
   "source": [
    "scene_0 = {\"acquisitionDate\": \"2013-03-09\", \n",
    "           \"startTime\": \"2013-03-09\", \n",
    "           \"endTime\": \"2013-03-09\", \n",
    "           \"lowerLeftCoordinate\": {\"latitude\": 16.65451, \"longitude\": -100.89458}, \n",
    "           \"upperLeftCoordinate\": {\"latitude\": 18.37292, \"longitude\": -100.51363}, \n",
    "           \"upperRightCoordinate\": {\"latitude\": 18.03105, \"longitude\": -98.86481}, \n",
    "           \"lowerRightCoordinate\": {\"latitude\": 16.31592, \"longitude\": -99.26119}, \n",
    "           \"spatialFootprint\": {\"type\": \"Polygon\", \"coordinates\": [[[-100.89458, 16.65451], \n",
    "                                                                    [-99.26119, 16.31592], \n",
    "                                                                    [-98.86481, 18.03105], \n",
    "                                                                    [-100.51363, 18.37292], \n",
    "                                                                    [-100.89458, 16.65451]]]}, \n",
    "           \"sceneBounds\": \"-100.89458,16.31592,-98.86481,18.37292\", \n",
    "           \"browseUrl\": \"https://ims.cr.usgs.gov/browse/landsat_8_c1/2013/026/048/LT08_L1GT_026048_20130309_20170505_01_T2.jpg\",\n",
    "           \"dataAccessUrl\": \"https://earthexplorer.usgs.gov/metadata/full/landsat_8_c1/LT80260482013068LGN02/\",\n",
    "           \"downloadUrl\": \"https://earthexplorer.usgs.gov/download/external/options/landsat_8_c1/LT80260482013068LGN02/EE/\",\n",
    "           \"entityId\": \"LT80260482013068LGN02\",\n",
    "           \"displayId\": \"LT08_L1GT_026048_20130309_20170505_01_T2\",\n",
    "           \"metadataUrl\": \"https://earthexplorer.usgs.gov/metadata/full/landsat_8_c1/LT80260482013068LGN02/?responseType=viewXml\",\n",
    "           \"fgdcMetadataUrl\": \"https://earthexplorer.usgs.gov/metadata/fgdc/landsat_8_c1/LT80260482013068LGN02/\",\n",
    "           \"modifiedDate\": \"2013-03-09 17:01:29\",\n",
    "           \"orderUrl\": \"null\",\n",
    "           \"bulkOrdered\": \"false\",\n",
    "           \"ordered\": \"false\",\n",
    "           \"summary\": \"\"}"
   ]
  },
  {
   "cell_type": "code",
   "execution_count": 25,
   "id": "ideal-halloween",
   "metadata": {},
   "outputs": [],
   "source": [
    "download_url = scene_0[\"downloadUrl\"]\n",
    "d = scene_0[\"displayId\"]\n",
    "list_d = d.split(\"_\")\n",
    "sensor=list_d[0]\n",
    "path_row = list_d[2]\n",
    "collection=list_d[5]\n",
    "acq_date = scene_0[\"acquisitionDate\"]"
   ]
  },
  {
   "cell_type": "code",
   "execution_count": 26,
   "id": "congressional-medium",
   "metadata": {},
   "outputs": [
    {
     "data": {
      "text/plain": [
       "'026048'"
      ]
     },
     "execution_count": 26,
     "metadata": {},
     "output_type": "execute_result"
    }
   ],
   "source": [
    "path_row"
   ]
  },
  {
   "cell_type": "code",
   "execution_count": 27,
   "id": "declared-freedom",
   "metadata": {},
   "outputs": [
    {
     "data": {
      "text/plain": [
       "'01'"
      ]
     },
     "execution_count": 27,
     "metadata": {},
     "output_type": "execute_result"
    }
   ],
   "source": [
    "collection"
   ]
  },
  {
   "cell_type": "code",
   "execution_count": 28,
   "id": "mature-robin",
   "metadata": {},
   "outputs": [
    {
     "data": {
      "text/plain": [
       "'LT08'"
      ]
     },
     "execution_count": 28,
     "metadata": {},
     "output_type": "execute_result"
    }
   ],
   "source": [
    "sensor"
   ]
  },
  {
   "cell_type": "code",
   "execution_count": 29,
   "id": "fantastic-crash",
   "metadata": {},
   "outputs": [],
   "source": [
    "coll = Collection.objects.get_or_create(collection_type=collection)\n",
    "pr = PathRow.objects.get_or_create(path_row_att=path_row)\n",
    "sen = Sensor.objects.get_or_create(sensor_type=sensor)"
   ]
  },
  {
   "cell_type": "code",
   "execution_count": 30,
   "id": "twelve-witch",
   "metadata": {},
   "outputs": [
    {
     "data": {
      "text/plain": [
       "(<Collection: Collection object (1)>, False)"
      ]
     },
     "execution_count": 30,
     "metadata": {},
     "output_type": "execute_result"
    }
   ],
   "source": [
    "coll"
   ]
  },
  {
   "cell_type": "code",
   "execution_count": 31,
   "id": "banner-custom",
   "metadata": {},
   "outputs": [
    {
     "data": {
      "text/plain": [
       "(<PathRow: PathRow object (2)>, True)"
      ]
     },
     "execution_count": 31,
     "metadata": {},
     "output_type": "execute_result"
    }
   ],
   "source": [
    "pr"
   ]
  },
  {
   "cell_type": "code",
   "execution_count": 32,
   "id": "dietary-pointer",
   "metadata": {},
   "outputs": [
    {
     "data": {
      "text/plain": [
       "(<Sensor: Sensor object (1)>, False)"
      ]
     },
     "execution_count": 32,
     "metadata": {},
     "output_type": "execute_result"
    }
   ],
   "source": [
    "sen"
   ]
  },
  {
   "cell_type": "markdown",
   "id": "productive-driver",
   "metadata": {},
   "source": [
    "**True was created a new row, False just get the row**"
   ]
  },
  {
   "cell_type": "code",
   "execution_count": 33,
   "id": "nominated-latest",
   "metadata": {},
   "outputs": [],
   "source": [
    "coll = coll[0]\n",
    "pr = pr[0]\n",
    "sen = sen[0]"
   ]
  },
  {
   "cell_type": "code",
   "execution_count": 34,
   "id": "moral-hollow",
   "metadata": {},
   "outputs": [],
   "source": [
    "#next set default to avoid SynchronousOnlyOperation error:\n",
    "#You cannot call this from an async context - use a thread or sync_to_async.\n",
    "os.environ.setdefault(\"DJANGO_ALLOW_ASYNC_UNSAFE\", \"true\")\n",
    "coll.save()\n",
    "pr.save()\n",
    "sen.save()\n",
    "sen.collection_att.add(coll)"
   ]
  },
  {
   "cell_type": "code",
   "execution_count": 35,
   "id": "amber-simpson",
   "metadata": {},
   "outputs": [],
   "source": [
    "img = Image(download_url=download_url,\n",
    "            sensor_image_att=sen,\n",
    "            path_row_image_att=pr,\n",
    "            collection_image_att=coll,\n",
    "            acquisition_date=acq_date)"
   ]
  },
  {
   "cell_type": "code",
   "execution_count": 36,
   "id": "bacterial-dream",
   "metadata": {},
   "outputs": [
    {
     "name": "stderr",
     "output_type": "stream",
     "text": [
      "/home/miuser/.local/lib/python3.6/site-packages/django/db/models/fields/__init__.py:1370: RuntimeWarning: DateTimeField Image.acquisition_date received a naive datetime (2013-03-09 00:00:00) while time zone support is active.\n",
      "  RuntimeWarning)\n"
     ]
    }
   ],
   "source": [
    "#next set default to avoid SynchronousOnlyOperation error:\n",
    "#You cannot call this from an async context - use a thread or sync_to_async.\n",
    "os.environ.setdefault(\"DJANGO_ALLOW_ASYNC_UNSAFE\", \"true\")\n",
    "img.save()"
   ]
  },
  {
   "cell_type": "code",
   "execution_count": 37,
   "id": "impaired-carrier",
   "metadata": {},
   "outputs": [
    {
     "name": "stdout",
     "output_type": "stream",
     "text": [
      "[('django_migrations',), ('sqlite_sequence',), ('auth_group_permissions',), ('auth_user_groups',), ('auth_user_user_permissions',), ('django_admin_log',), ('django_content_type',), ('auth_permission',), ('auth_group',), ('auth_user',), ('django_session',), ('satellital_images_collection',), ('satellital_images_sensor',), ('satellital_images_sensor_collection_att',), ('satellital_images_image',), ('satellital_images_pathrow',)]\n"
     ]
    }
   ],
   "source": [
    "connection = sqlite3.connect(\"db.sqlite3\")\n",
    "cursor = connection.cursor()\n",
    "\n",
    "cursor.execute(\"SELECT name FROM sqlite_master WHERE type='table';\")\n",
    "\n",
    "print(cursor.fetchall())"
   ]
  },
  {
   "cell_type": "markdown",
   "id": "marine-panic",
   "metadata": {},
   "source": [
    "**Next just to check, normally is not necessary to execute:**"
   ]
  },
  {
   "cell_type": "code",
   "execution_count": 38,
   "id": "rotary-liability",
   "metadata": {},
   "outputs": [
    {
     "name": "stdout",
     "output_type": "stream",
     "text": [
      "[(1, 'https://earthexplorer.usgs.gov/download/external/options/landsat_8_c1/LT80260472013068LGN02/EE/', '2013-03-09 00:00:00', 1, 1, 1), (2, 'https://earthexplorer.usgs.gov/download/external/options/landsat_8_c1/LT80260482013068LGN02/EE/', '2013-03-09 00:00:00', 1, 2, 1)]\n"
     ]
    }
   ],
   "source": [
    "rows = cursor.execute(\"SELECT * FROM satellital_images_image\").fetchall()\n",
    "print(rows)"
   ]
  },
  {
   "cell_type": "code",
   "execution_count": 39,
   "id": "informal-compound",
   "metadata": {},
   "outputs": [
    {
     "name": "stdout",
     "output_type": "stream",
     "text": [
      "[(1, '01')]\n"
     ]
    }
   ],
   "source": [
    "rows = cursor.execute(\"SELECT * FROM satellital_images_collection\").fetchall()\n",
    "print(rows)"
   ]
  },
  {
   "cell_type": "code",
   "execution_count": 40,
   "id": "expanded-absorption",
   "metadata": {},
   "outputs": [
    {
     "name": "stdout",
     "output_type": "stream",
     "text": [
      "[(1, 'LT08')]\n"
     ]
    }
   ],
   "source": [
    "rows = cursor.execute(\"SELECT * FROM satellital_images_sensor\").fetchall()\n",
    "print(rows)"
   ]
  },
  {
   "cell_type": "code",
   "execution_count": 41,
   "id": "constitutional-mobile",
   "metadata": {},
   "outputs": [
    {
     "name": "stdout",
     "output_type": "stream",
     "text": [
      "[(1, 1, 1)]\n"
     ]
    }
   ],
   "source": [
    "rows = cursor.execute(\"SELECT * FROM satellital_images_sensor_collection_att\").fetchall()\n",
    "print(rows)"
   ]
  },
  {
   "cell_type": "code",
   "execution_count": 42,
   "id": "cognitive-jewelry",
   "metadata": {},
   "outputs": [
    {
     "name": "stdout",
     "output_type": "stream",
     "text": [
      "[(1, '26047'), (2, '26048')]\n"
     ]
    }
   ],
   "source": [
    "rows = cursor.execute(\"SELECT * FROM satellital_images_pathrow\").fetchall()\n",
    "print(rows)"
   ]
  },
  {
   "cell_type": "markdown",
   "id": "vocational-knight",
   "metadata": {},
   "source": [
    "**Some queries:**"
   ]
  },
  {
   "cell_type": "markdown",
   "id": "surprising-twenty",
   "metadata": {},
   "source": [
    "**Get `download_url`, `path_row_att`, `acquisition_date` of images related to `LT08` sensor**"
   ]
  },
  {
   "cell_type": "code",
   "execution_count": 43,
   "id": "conditional-presence",
   "metadata": {},
   "outputs": [
    {
     "data": {
      "text/plain": [
       "<QuerySet [<Sensor: Sensor object (1)>]>"
      ]
     },
     "execution_count": 43,
     "metadata": {},
     "output_type": "execute_result"
    }
   ],
   "source": [
    "Sensor.objects.filter(sensor_type=\"LT08\")"
   ]
  },
  {
   "cell_type": "code",
   "execution_count": 44,
   "id": "variable-moisture",
   "metadata": {},
   "outputs": [],
   "source": [
    "qs = Sensor.objects.filter(sensor_type=\"LT08\")"
   ]
  },
  {
   "cell_type": "code",
   "execution_count": 45,
   "id": "czech-calculation",
   "metadata": {},
   "outputs": [],
   "source": [
    "r = qs[0]"
   ]
  },
  {
   "cell_type": "code",
   "execution_count": 46,
   "id": "genuine-camping",
   "metadata": {},
   "outputs": [
    {
     "data": {
      "text/plain": [
       "<QuerySet [<Image: Image object (1)>, <Image: Image object (2)>]>"
      ]
     },
     "execution_count": 46,
     "metadata": {},
     "output_type": "execute_result"
    }
   ],
   "source": [
    "r.sensor_images.distinct()"
   ]
  },
  {
   "cell_type": "code",
   "execution_count": 47,
   "id": "improved-method",
   "metadata": {},
   "outputs": [],
   "source": [
    "qs = r.sensor_images.distinct()"
   ]
  },
  {
   "cell_type": "code",
   "execution_count": 49,
   "id": "general-counter",
   "metadata": {},
   "outputs": [
    {
     "name": "stdout",
     "output_type": "stream",
     "text": [
      "https://earthexplorer.usgs.gov/download/external/options/landsat_8_c1/LT80260472013068LGN02/EE/\n",
      "26047\n",
      "2013-03-09 00:00:00+00:00\n",
      "https://earthexplorer.usgs.gov/download/external/options/landsat_8_c1/LT80260482013068LGN02/EE/\n",
      "26048\n",
      "2013-03-09 00:00:00+00:00\n"
     ]
    }
   ],
   "source": [
    "for im in qs:\n",
    "    print(im.download_url)\n",
    "    print(im.path_row_image_att.path_row_att)\n",
    "    print(im.acquisition_date)"
   ]
  },
  {
   "cell_type": "markdown",
   "id": "thorough-stylus",
   "metadata": {},
   "source": [
    "**Access some `Collection` objects related to `Sensor` or `Image`:**"
   ]
  },
  {
   "cell_type": "code",
   "execution_count": 51,
   "id": "entitled-celtic",
   "metadata": {},
   "outputs": [
    {
     "data": {
      "text/plain": [
       "<QuerySet [<Sensor_collection_att: Sensor_collection_att object (1)>]>"
      ]
     },
     "execution_count": 51,
     "metadata": {},
     "output_type": "execute_result"
    }
   ],
   "source": [
    "Sensor.collection_att.through.objects.all()"
   ]
  },
  {
   "cell_type": "code",
   "execution_count": 54,
   "id": "charitable-uncertainty",
   "metadata": {},
   "outputs": [],
   "source": [
    "r = Sensor.collection_att.through.objects.all()[0]"
   ]
  },
  {
   "cell_type": "code",
   "execution_count": 55,
   "id": "excited-increase",
   "metadata": {},
   "outputs": [
    {
     "data": {
      "text/plain": [
       "1"
      ]
     },
     "execution_count": 55,
     "metadata": {},
     "output_type": "execute_result"
    }
   ],
   "source": [
    "r.collection_id"
   ]
  },
  {
   "cell_type": "code",
   "execution_count": 57,
   "id": "centered-taylor",
   "metadata": {},
   "outputs": [
    {
     "data": {
      "text/plain": [
       "<QuerySet [<Image: Image object (1)>, <Image: Image object (2)>]>"
      ]
     },
     "execution_count": 57,
     "metadata": {},
     "output_type": "execute_result"
    }
   ],
   "source": [
    "r.collection.collection_images.distinct()"
   ]
  },
  {
   "cell_type": "code",
   "execution_count": 58,
   "id": "expired-adoption",
   "metadata": {},
   "outputs": [
    {
     "data": {
      "text/plain": [
       "'01'"
      ]
     },
     "execution_count": 58,
     "metadata": {},
     "output_type": "execute_result"
    }
   ],
   "source": [
    "r.collection.collection_type"
   ]
  },
  {
   "cell_type": "markdown",
   "id": "soviet-capacity",
   "metadata": {},
   "source": [
    "**Filter**"
   ]
  },
  {
   "cell_type": "code",
   "execution_count": 59,
   "id": "varying-advance",
   "metadata": {},
   "outputs": [
    {
     "data": {
      "text/plain": [
       "<QuerySet [<Sensor_collection_att: Sensor_collection_att object (1)>]>"
      ]
     },
     "execution_count": 59,
     "metadata": {},
     "output_type": "execute_result"
    }
   ],
   "source": [
    "Sensor.collection_att.through.objects.filter(collection=\"01\")"
   ]
  },
  {
   "cell_type": "code",
   "execution_count": 60,
   "id": "neural-preference",
   "metadata": {},
   "outputs": [],
   "source": [
    "r = Sensor.collection_att.through.objects.filter(collection=\"01\")[0]"
   ]
  },
  {
   "cell_type": "code",
   "execution_count": 62,
   "id": "circular-adult",
   "metadata": {},
   "outputs": [
    {
     "data": {
      "text/plain": [
       "<QuerySet [<Image: Image object (1)>, <Image: Image object (2)>]>"
      ]
     },
     "execution_count": 62,
     "metadata": {},
     "output_type": "execute_result"
    }
   ],
   "source": [
    "r.collection.collection_images.distinct()"
   ]
  },
  {
   "cell_type": "code",
   "execution_count": 64,
   "id": "organizational-bullet",
   "metadata": {},
   "outputs": [
    {
     "data": {
      "text/plain": [
       "'01'"
      ]
     },
     "execution_count": 64,
     "metadata": {},
     "output_type": "execute_result"
    }
   ],
   "source": [
    "r.collection.collection_type"
   ]
  },
  {
   "cell_type": "markdown",
   "id": "greater-cooper",
   "metadata": {},
   "source": [
    "**Another example for filter:**"
   ]
  },
  {
   "cell_type": "code",
   "execution_count": 66,
   "id": "known-fraction",
   "metadata": {},
   "outputs": [
    {
     "data": {
      "text/plain": [
       "<QuerySet [<Sensor_collection_att: Sensor_collection_att object (1)>]>"
      ]
     },
     "execution_count": 66,
     "metadata": {},
     "output_type": "execute_result"
    }
   ],
   "source": [
    "Sensor.collection_att.through.objects.filter(sensor__sensor_type=\"LT08\")"
   ]
  },
  {
   "cell_type": "code",
   "execution_count": 67,
   "id": "plain-november",
   "metadata": {},
   "outputs": [],
   "source": [
    "r = Sensor.collection_att.through.objects.filter(sensor__sensor_type=\"LT08\")[0]"
   ]
  },
  {
   "cell_type": "code",
   "execution_count": 68,
   "id": "laughing-funds",
   "metadata": {},
   "outputs": [
    {
     "data": {
      "text/plain": [
       "<Sensor_collection_att: Sensor_collection_att object (1)>"
      ]
     },
     "execution_count": 68,
     "metadata": {},
     "output_type": "execute_result"
    }
   ],
   "source": [
    "r"
   ]
  },
  {
   "cell_type": "code",
   "execution_count": 70,
   "id": "australian-vessel",
   "metadata": {},
   "outputs": [
    {
     "data": {
      "text/plain": [
       "<Sensor: Sensor object (1)>"
      ]
     },
     "execution_count": 70,
     "metadata": {},
     "output_type": "execute_result"
    }
   ],
   "source": [
    "r.sensor"
   ]
  },
  {
   "cell_type": "code",
   "execution_count": 71,
   "id": "false-grain",
   "metadata": {},
   "outputs": [
    {
     "data": {
      "text/plain": [
       "'LT08'"
      ]
     },
     "execution_count": 71,
     "metadata": {},
     "output_type": "execute_result"
    }
   ],
   "source": [
    "r.sensor.sensor_type"
   ]
  },
  {
   "cell_type": "code",
   "execution_count": 72,
   "id": "scheduled-return",
   "metadata": {},
   "outputs": [
    {
     "data": {
      "text/plain": [
       "<QuerySet [<Image: Image object (1)>, <Image: Image object (2)>]>"
      ]
     },
     "execution_count": 72,
     "metadata": {},
     "output_type": "execute_result"
    }
   ],
   "source": [
    "r.sensor.sensor_images.distinct()"
   ]
  },
  {
   "cell_type": "code",
   "execution_count": 73,
   "id": "terminal-night",
   "metadata": {},
   "outputs": [
    {
     "data": {
      "text/plain": [
       "1"
      ]
     },
     "execution_count": 73,
     "metadata": {},
     "output_type": "execute_result"
    }
   ],
   "source": [
    "r.sensor_id"
   ]
  },
  {
   "cell_type": "code",
   "execution_count": 74,
   "id": "cordless-lounge",
   "metadata": {},
   "outputs": [
    {
     "data": {
      "text/plain": [
       "<QuerySet [<Image: Image object (1)>, <Image: Image object (2)>]>"
      ]
     },
     "execution_count": 74,
     "metadata": {},
     "output_type": "execute_result"
    }
   ],
   "source": [
    "r.collection.collection_images.distinct()"
   ]
  },
  {
   "cell_type": "markdown",
   "id": "constitutional-deadline",
   "metadata": {},
   "source": [
    "**Get `download_url`, `path_row_att`, `acquisition_date` of images related to `LT08` sensor from many to many relation**"
   ]
  },
  {
   "cell_type": "code",
   "execution_count": 75,
   "id": "raising-contact",
   "metadata": {},
   "outputs": [],
   "source": [
    "qs = r.collection.collection_images.distinct()"
   ]
  },
  {
   "cell_type": "code",
   "execution_count": 76,
   "id": "exact-awareness",
   "metadata": {},
   "outputs": [
    {
     "name": "stdout",
     "output_type": "stream",
     "text": [
      "https://earthexplorer.usgs.gov/download/external/options/landsat_8_c1/LT80260472013068LGN02/EE/\n",
      "26047\n",
      "2013-03-09 00:00:00+00:00\n",
      "https://earthexplorer.usgs.gov/download/external/options/landsat_8_c1/LT80260482013068LGN02/EE/\n",
      "26048\n",
      "2013-03-09 00:00:00+00:00\n"
     ]
    }
   ],
   "source": [
    "for im in qs:\n",
    "    print(im.download_url)\n",
    "    print(im.path_row_image_att.path_row_att)\n",
    "    print(im.acquisition_date)"
   ]
  },
  {
   "cell_type": "markdown",
   "id": "measured-surface",
   "metadata": {},
   "source": [
    "# For data:"
   ]
  },
  {
   "cell_type": "markdown",
   "id": "reverse-walter",
   "metadata": {},
   "source": [
    "Using: https://github.com/loicdtx/lsru/"
   ]
  },
  {
   "cell_type": "code",
   "execution_count": null,
   "id": "ongoing-savings",
   "metadata": {},
   "outputs": [],
   "source": [
    "!pip install lsru"
   ]
  },
  {
   "cell_type": "code",
   "execution_count": 1,
   "id": "ranking-bulletin",
   "metadata": {},
   "outputs": [],
   "source": [
    "from lsru import Usgs\n",
    "import datetime"
   ]
  },
  {
   "cell_type": "code",
   "execution_count": 54,
   "id": "international-sword",
   "metadata": {},
   "outputs": [
    {
     "data": {
      "text/plain": [
       "True"
      ]
     },
     "execution_count": 54,
     "metadata": {},
     "output_type": "execute_result"
    }
   ],
   "source": [
    "# Instantiate Usgs class and login\n",
    "usgs = Usgs()\n",
    "usgs.login()"
   ]
  },
  {
   "cell_type": "code",
   "execution_count": 7,
   "id": "environmental-summary",
   "metadata": {},
   "outputs": [
    {
     "data": {
      "text/plain": [
       "['LANDSAT_TM_C1', 'LANDSAT_TM_C1', 'LANDSAT_ETM_C1', 'LANDSAT_8_C1']"
      ]
     },
     "execution_count": 7,
     "metadata": {},
     "output_type": "execute_result"
    }
   ],
   "source": [
    "[usgs.get_collection_name(k) for k in [4, 5, 7, 8]]"
   ]
  },
  {
   "cell_type": "code",
   "execution_count": 19,
   "id": "resident-winter",
   "metadata": {},
   "outputs": [],
   "source": [
    "# Define query extent\n",
    "#long, lat, long, lat\n",
    "bbox = (-119.0, 14.0, -84.0, 33.0)"
   ]
  },
  {
   "cell_type": "code",
   "execution_count": 59,
   "id": "beautiful-invention",
   "metadata": {},
   "outputs": [],
   "source": [
    "# Query the Usgs api to find scene intersecting with the spatio-temporal window\n",
    "scene_list = usgs.search(collection='LANDSAT_8_C1',\n",
    "                         bbox=bbox,\n",
    "                         begin=datetime.datetime(2013,1,1),\n",
    "                         end=datetime.datetime(2016,1,1),\n",
    "                         max_results=10,\n",
    "                         max_cloud_cover=40)\n"
   ]
  },
  {
   "cell_type": "code",
   "execution_count": 60,
   "id": "finished-topic",
   "metadata": {},
   "outputs": [],
   "source": [
    "import json"
   ]
  },
  {
   "cell_type": "code",
   "execution_count": 61,
   "id": "touched-property",
   "metadata": {},
   "outputs": [],
   "source": [
    "i = 0\n",
    "for i,scene in enumerate(scene_list):\n",
    "    with open(\"scene\" + str(i) + \".txt\", 'w') as f:\n",
    "        json.dump(scene, f)\n",
    "        i+=1"
   ]
  },
  {
   "cell_type": "code",
   "execution_count": 63,
   "id": "sought-round",
   "metadata": {},
   "outputs": [],
   "source": [
    "# Query the Usgs api to find scene intersecting with the spatio-temporal window\n",
    "scene_list2 = usgs.search(collection='LANDSAT_ETM_C1',\n",
    "                         bbox=bbox,\n",
    "                         begin=datetime.datetime(2013,1,1),\n",
    "                         end=datetime.datetime(2016,1,1),\n",
    "                         max_results=5,\n",
    "                         max_cloud_cover=40)\n"
   ]
  },
  {
   "cell_type": "code",
   "execution_count": 70,
   "id": "upper-university",
   "metadata": {},
   "outputs": [
    {
     "name": "stdout",
     "output_type": "stream",
     "text": [
      "10\n",
      "11\n",
      "12\n",
      "13\n",
      "14\n"
     ]
    }
   ],
   "source": [
    "for i,scene in enumerate(scene_list2,start=i):\n",
    "    with open(\"/datos/example-django/scene\" + str(i) + \".txt\", 'w') as f:\n",
    "        json.dump(scene, f)\n",
    "        i+=1"
   ]
  }
 ],
 "metadata": {
  "kernelspec": {
   "display_name": "Python 3",
   "language": "python",
   "name": "python3"
  },
  "language_info": {
   "codemirror_mode": {
    "name": "ipython",
    "version": 3
   },
   "file_extension": ".py",
   "mimetype": "text/x-python",
   "name": "python",
   "nbconvert_exporter": "python",
   "pygments_lexer": "ipython3",
   "version": "3.6.9"
  }
 },
 "nbformat": 4,
 "nbformat_minor": 5
}
