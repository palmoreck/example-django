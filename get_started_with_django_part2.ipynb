{
 "cells": [
  {
   "cell_type": "markdown",
   "id": "dfb0e4cb",
   "metadata": {},
   "source": [
    "# Docker:"
   ]
  },
  {
   "cell_type": "markdown",
   "id": "b2869c39",
   "metadata": {},
   "source": [
    "```bash\n",
    "\n",
    "docker run --rm -d -v $(pwd):/datos --name jupyterlab_django -p 8000:8000 -p 8989:8888 palmoreck/django:3.0.0\n",
    "\n",
    "```"
   ]
  },
  {
   "cell_type": "markdown",
   "id": "c0644a8f",
   "metadata": {},
   "source": [
    "# Example for some satellital data"
   ]
  },
  {
   "cell_type": "markdown",
   "id": "9019689c",
   "metadata": {},
   "source": [
    "From:\n",
    "\n",
    "https://realpython.com/get-started-with-django-1/#blog-app-models\n",
    "\n",
    "and:\n",
    "\n",
    "https://docs.djangoproject.com/en/3.1/topics/db/examples/many_to_many/"
   ]
  },
  {
   "cell_type": "code",
   "execution_count": 1,
   "id": "6d927be1",
   "metadata": {},
   "outputs": [
    {
     "name": "stdout",
     "output_type": "stream",
     "text": [
      "Operations to perform:\n",
      "  Apply all migrations: admin, auth, contenttypes, sessions\n",
      "Running migrations:\n",
      "  Applying contenttypes.0001_initial... OK\n",
      "  Applying auth.0001_initial... OK\n",
      "  Applying admin.0001_initial... OK\n",
      "  Applying admin.0002_logentry_remove_auto_add... OK\n",
      "  Applying admin.0003_logentry_add_action_flag_choices... OK\n",
      "  Applying contenttypes.0002_remove_content_type_name... OK\n",
      "  Applying auth.0002_alter_permission_name_max_length... OK\n",
      "  Applying auth.0003_alter_user_email_max_length... OK\n",
      "  Applying auth.0004_alter_user_username_opts... OK\n",
      "  Applying auth.0005_alter_user_last_login_null... OK\n",
      "  Applying auth.0006_require_contenttypes_0002... OK\n",
      "  Applying auth.0007_alter_validators_add_error_messages... OK\n",
      "  Applying auth.0008_alter_user_username_max_length... OK\n",
      "  Applying auth.0009_alter_user_last_name_max_length... OK\n",
      "  Applying auth.0010_alter_group_name_max_length... OK\n",
      "  Applying auth.0011_update_proxy_permissions... OK\n",
      "  Applying auth.0012_alter_user_first_name_max_length... OK\n",
      "  Applying sessions.0001_initial... OK\n"
     ]
    }
   ],
   "source": [
    "%%bash\n",
    "name_django_proj=mydjangoproj\n",
    "\n",
    "cd $HOME/example-django/\n",
    "mkdir myproj\n",
    "cd $HOME/example-django/myproj\n",
    "/home/miuser/.local/bin/django-admin startproject $name_django_proj\n",
    "\n",
    "mv $name_django_proj/manage.py ./\n",
    "mv $name_django_proj/$name_django_proj/* $name_django_proj\n",
    "rm -r $name_django_proj/$name_django_proj/\n",
    "\n",
    "python3 manage.py migrate #if run it will create db.sqlite3 file\n"
   ]
  },
  {
   "cell_type": "code",
   "execution_count": 2,
   "id": "c2bb9439",
   "metadata": {},
   "outputs": [],
   "source": [
    "%%bash\n",
    "cd $HOME/example-django/myproj\n",
    "python3 manage.py startapp satellital_images"
   ]
  },
  {
   "cell_type": "code",
   "execution_count": 3,
   "id": "bfda2197",
   "metadata": {},
   "outputs": [],
   "source": [
    "%%bash\n",
    "file=$HOME/example-django/myproj/mydjangoproj/settings.py\n",
    "sed -i \"/'django.contrib.staticfiles',/a \\ \\ \\ \\ 'satellital_images',\" $file"
   ]
  },
  {
   "cell_type": "code",
   "execution_count": 5,
   "id": "afc07266",
   "metadata": {},
   "outputs": [],
   "source": [
    "import os"
   ]
  },
  {
   "cell_type": "code",
   "execution_count": 6,
   "id": "66ff606e",
   "metadata": {},
   "outputs": [
    {
     "name": "stdout",
     "output_type": "stream",
     "text": [
      "Overwriting /home/miuser/example-django/myproj/satellital_images/models.py\n"
     ]
    }
   ],
   "source": [
    "%%file {os.environ[\"HOME\"]}/example-django/myproj/satellital_images/models.py\n",
    "from django.db import models\n",
    "\n",
    "class Collection(models.Model):\n",
    "    collection_type = models.CharField(unique=True, max_length=5)\n",
    "\n",
    "class Sensor(models.Model):\n",
    "    sensor_type = models.CharField(unique=True, max_length=10)\n",
    "    collection_att = models.ManyToManyField(\"Collection\")\n",
    "\n",
    "class PathRow(models.Model):\n",
    "    path_row = models.IntegerField(unique=True)\n",
    "    \n",
    "class Image(models.Model):\n",
    "    download_url = models.CharField(max_length=200, default=None)\n",
    "    sensor_image_att = models.ForeignKey(Sensor, related_name=\"sensor_images\", on_delete=models.CASCADE)\n",
    "    path_row_image_att = models.ForeignKey(PathRow, related_name=\"pathrow_images\", on_delete=models.CASCADE)\n",
    "    collection_image_att = models.ForeignKey(Collection, related_name=\"collection_images\", on_delete=models.CASCADE)\n",
    "    acquisition_date = models.DateTimeField()\n",
    "    "
   ]
  },
  {
   "cell_type": "markdown",
   "id": "37bf0f76",
   "metadata": {},
   "source": [
    "<img src=\"db_example_django_part_2.png\" alt=\"drawing\" width=\"500\" height=\"500\">"
   ]
  },
  {
   "cell_type": "code",
   "execution_count": 7,
   "id": "34eba8f4",
   "metadata": {},
   "outputs": [
    {
     "name": "stdout",
     "output_type": "stream",
     "text": [
      "Migrations for 'satellital_images':\n",
      "  satellital_images/migrations/0001_initial.py\n",
      "    - Create model Collection\n",
      "    - Create model PathRow\n",
      "    - Create model Sensor\n",
      "    - Create model Image\n"
     ]
    }
   ],
   "source": [
    "%%bash\n",
    "\n",
    "cd $HOME/example-django/myproj\n",
    "\n",
    "python3 manage.py makemigrations \n",
    "\n",
    "#python3 manage.py makemigrations satellital_images"
   ]
  },
  {
   "cell_type": "code",
   "execution_count": 8,
   "id": "ee790d83",
   "metadata": {},
   "outputs": [
    {
     "name": "stdout",
     "output_type": "stream",
     "text": [
      "Operations to perform:\n",
      "  Apply all migrations: admin, auth, contenttypes, satellital_images, sessions\n",
      "Running migrations:\n",
      "  Applying satellital_images.0001_initial... OK\n"
     ]
    }
   ],
   "source": [
    "%%bash\n",
    "\n",
    "cd $HOME/example-django/myproj/\n",
    "\n",
    "python3 manage.py migrate"
   ]
  },
  {
   "cell_type": "markdown",
   "id": "4e1d9ceb",
   "metadata": {},
   "source": [
    "**Cmd to see query in sql: python3 manage.py sqlmigrate satellital_images 0001_initial.py**"
   ]
  },
  {
   "cell_type": "code",
   "execution_count": 9,
   "id": "9489eccc",
   "metadata": {},
   "outputs": [],
   "source": [
    "direc = \"/home/miuser\"\n",
    "direc_myproj = os.path.join(direc, \"example-django/myproj\")"
   ]
  },
  {
   "cell_type": "code",
   "execution_count": 10,
   "id": "1481ad4a",
   "metadata": {},
   "outputs": [],
   "source": [
    "os.chdir(direc_myproj)\n",
    "os.environ.setdefault(\"DJANGO_SETTINGS_MODULE\", \"mydjangoproj.settings\")\n",
    "import django\n",
    "django.setup()\n",
    "from satellital_images.models import Collection, PathRow, Sensor"
   ]
  },
  {
   "cell_type": "code",
   "execution_count": 11,
   "id": "53284bc4",
   "metadata": {},
   "outputs": [],
   "source": [
    "scene_0 = {\"acquisitionDate\": \"2013-03-09\", \n",
    "           \"startTime\": \"2013-03-09\", \n",
    "           \"endTime\": \"2013-03-09\", \n",
    "           \"lowerLeftCoordinate\": {\"latitude\": 18.09711, \"longitude\": -100.57469}, \n",
    "           \"upperLeftCoordinate\": {\"latitude\": 19.81465, \"longitude\": -100.19015}, \n",
    "           \"upperRightCoordinate\": {\"latitude\": 19.47153, \"longitude\": -98.52673}, \n",
    "           \"lowerRightCoordinate\": {\"latitude\": 17.75737, \"longitude\": -98.92825}, \n",
    "           \"spatialFootprint\": {\"type\": \"Polygon\", \n",
    "                                \"coordinates\": [[[-100.57469, 18.09711], \n",
    "                                                 [-98.92825, 17.75737], \n",
    "                                                 [-98.52673, 19.47153], \n",
    "                                                 [-100.19015, 19.81465], \n",
    "                                                 [-100.57469, 18.09711]]]}, \n",
    "           \"sceneBounds\": \"-100.57469,17.75737,-98.52673,19.81465\", \n",
    "           \"browseUrl\": \"https://ims.cr.usgs.gov/browse/landsat_8_c1/2013/026/047/LT08_L1GT_026047_20130309_20170505_01_T2.jpg\", \n",
    "           \"dataAccessUrl\": \"https://earthexplorer.usgs.gov/metadata/full/landsat_8_c1/LT80260472013068LGN02/\", \n",
    "           \"downloadUrl\": \"https://earthexplorer.usgs.gov/download/external/options/landsat_8_c1/LT80260472013068LGN02/EE/\", \n",
    "           \"entityId\": \"LT80260472013068LGN02\", \n",
    "           \"displayId\": \"LT08_L1GT_026047_20130309_20170505_01_T2\", \n",
    "           \"metadataUrl\": \"https://earthexplorer.usgs.gov/metadata/full/landsat_8_c1/LT80260472013068LGN02/?responseType=viewXml\", \n",
    "           \"fgdcMetadataUrl\": \"https://earthexplorer.usgs.gov/metadata/fgdc/landsat_8_c1/LT80260472013068LGN02/\", \n",
    "           \"modifiedDate\": \"2013-03-09 17:01:29\", \n",
    "           \"orderUrl\": \"null\", \n",
    "           \"bulkOrdered\": \"false\", \n",
    "           \"ordered\": \"false\", \n",
    "           \"summary\": \"\"}"
   ]
  },
  {
   "cell_type": "code",
   "execution_count": 12,
   "id": "97bd8414",
   "metadata": {},
   "outputs": [],
   "source": [
    "download_url = scene_0[\"downloadUrl\"]\n",
    "d = scene_0[\"displayId\"]\n",
    "list_d = d.split(\"_\")\n",
    "sensor=list_d[0]\n",
    "pathrow = list_d[2]\n",
    "collection=list_d[5]\n",
    "acq_date = scene_0[\"acquisitionDate\"]"
   ]
  },
  {
   "cell_type": "code",
   "execution_count": 13,
   "id": "a7fdf090",
   "metadata": {},
   "outputs": [],
   "source": [
    "coll = Collection(collection_type=collection)\n",
    "pr = PathRow(path_row=pathrow)\n",
    "sen = Sensor(sensor_type=sensor)"
   ]
  },
  {
   "cell_type": "code",
   "execution_count": 14,
   "id": "b0936d14",
   "metadata": {},
   "outputs": [],
   "source": [
    "#next set default to avoid SynchronousOnlyOperation error:\n",
    "#You cannot call this from an async context - use a thread or sync_to_async.\n",
    "os.environ.setdefault(\"DJANGO_ALLOW_ASYNC_UNSAFE\", \"true\")\n",
    "coll.save()\n",
    "pr.save()\n",
    "sen.save()\n",
    "sen.collection_att.add(coll)"
   ]
  },
  {
   "cell_type": "code",
   "execution_count": 15,
   "id": "46a6003a",
   "metadata": {},
   "outputs": [],
   "source": [
    "from satellital_images.models import Image"
   ]
  },
  {
   "cell_type": "code",
   "execution_count": 16,
   "id": "16f73fbf",
   "metadata": {},
   "outputs": [],
   "source": [
    "img = Image(download_url=download_url,\n",
    "            sensor_image_att=sen,\n",
    "            path_row_image_att=pr,\n",
    "            collection_image_att=coll,\n",
    "            acquisition_date=acq_date)"
   ]
  },
  {
   "cell_type": "code",
   "execution_count": 17,
   "id": "728ba811",
   "metadata": {},
   "outputs": [
    {
     "name": "stderr",
     "output_type": "stream",
     "text": [
      "/home/miuser/.local/lib/python3.6/site-packages/django/db/models/fields/__init__.py:1370: RuntimeWarning: DateTimeField Image.acquisition_date received a naive datetime (2013-03-09 00:00:00) while time zone support is active.\n",
      "  RuntimeWarning)\n"
     ]
    }
   ],
   "source": [
    "#next set default to avoid SynchronousOnlyOperation error:\n",
    "#You cannot call this from an async context - use a thread or sync_to_async.\n",
    "os.environ.setdefault(\"DJANGO_ALLOW_ASYNC_UNSAFE\", \"true\")\n",
    "img.save()"
   ]
  },
  {
   "cell_type": "code",
   "execution_count": 18,
   "id": "ede83abf",
   "metadata": {},
   "outputs": [
    {
     "name": "stdout",
     "output_type": "stream",
     "text": [
      "[('django_migrations',), ('sqlite_sequence',), ('auth_group_permissions',), ('auth_user_groups',), ('auth_user_user_permissions',), ('django_admin_log',), ('django_content_type',), ('auth_permission',), ('auth_group',), ('auth_user',), ('django_session',), ('satellital_images_collection',), ('satellital_images_pathrow',), ('satellital_images_sensor',), ('satellital_images_sensor_collection_att',), ('satellital_images_image',)]\n"
     ]
    }
   ],
   "source": [
    "import sqlite3\n",
    "\n",
    "connection = sqlite3.connect(\"db.sqlite3\")\n",
    "cursor = connection.cursor()\n",
    "\n",
    "cursor.execute(\"SELECT name FROM sqlite_master WHERE type='table';\")\n",
    "\n",
    "print(cursor.fetchall())"
   ]
  },
  {
   "cell_type": "markdown",
   "id": "54df6862",
   "metadata": {},
   "source": [
    "**Next just to check, normally is not necessary to execute:**"
   ]
  },
  {
   "cell_type": "code",
   "execution_count": 19,
   "id": "3686bd7b",
   "metadata": {},
   "outputs": [
    {
     "name": "stdout",
     "output_type": "stream",
     "text": [
      "[(1, 'https://earthexplorer.usgs.gov/download/external/options/landsat_8_c1/LT80260472013068LGN02/EE/', '2013-03-09 00:00:00', 1, 1, 1)]\n"
     ]
    }
   ],
   "source": [
    "rows = cursor.execute(\"SELECT * FROM satellital_images_image\").fetchall()\n",
    "print(rows)"
   ]
  },
  {
   "cell_type": "code",
   "execution_count": 20,
   "id": "ceaaca34",
   "metadata": {},
   "outputs": [
    {
     "name": "stdout",
     "output_type": "stream",
     "text": [
      "[(1, '01')]\n"
     ]
    }
   ],
   "source": [
    "rows = cursor.execute(\"SELECT * FROM satellital_images_collection\").fetchall()\n",
    "print(rows)"
   ]
  },
  {
   "cell_type": "code",
   "execution_count": 21,
   "id": "4f00c4db",
   "metadata": {},
   "outputs": [
    {
     "name": "stdout",
     "output_type": "stream",
     "text": [
      "[(1, 'LT08')]\n"
     ]
    }
   ],
   "source": [
    "rows = cursor.execute(\"SELECT * FROM satellital_images_sensor\").fetchall()\n",
    "print(rows)"
   ]
  },
  {
   "cell_type": "code",
   "execution_count": 22,
   "id": "01e04354",
   "metadata": {},
   "outputs": [
    {
     "name": "stdout",
     "output_type": "stream",
     "text": [
      "[(1, 1, 1)]\n"
     ]
    }
   ],
   "source": [
    "rows = cursor.execute(\"SELECT * FROM satellital_images_sensor_collection_att\").fetchall()\n",
    "print(rows)"
   ]
  },
  {
   "cell_type": "code",
   "execution_count": 23,
   "id": "694d9c2e",
   "metadata": {},
   "outputs": [
    {
     "name": "stdout",
     "output_type": "stream",
     "text": [
      "[(1, 26047)]\n"
     ]
    }
   ],
   "source": [
    "rows = cursor.execute(\"SELECT * FROM satellital_images_pathrow\").fetchall()\n",
    "print(rows)"
   ]
  },
  {
   "cell_type": "markdown",
   "id": "20c36710",
   "metadata": {},
   "source": [
    "**If we want to change path_row attribute (column) of PathRow class:**"
   ]
  },
  {
   "cell_type": "code",
   "execution_count": 24,
   "id": "7663c096",
   "metadata": {},
   "outputs": [
    {
     "name": "stdout",
     "output_type": "stream",
     "text": [
      "Overwriting /home/miuser/example-django/myproj/satellital_images/models.py\n"
     ]
    }
   ],
   "source": [
    "%%file {os.environ[\"HOME\"]}/example-django/myproj/satellital_images/models.py\n",
    "from django.db import models\n",
    "\n",
    "class Collection(models.Model):\n",
    "    collection_type = models.CharField(unique=True, max_length=5)\n",
    "\n",
    "class Sensor(models.Model):\n",
    "    sensor_type = models.CharField(unique=True, max_length=10)\n",
    "    collection_att = models.ManyToManyField(\"Collection\")\n",
    "\n",
    "class PathRow(models.Model):\n",
    "    path_row = models.CharField(unique=True,max_length=10)#here the change\n",
    "    \n",
    "class Image(models.Model):\n",
    "    download_url = models.CharField(max_length=200, default=None)\n",
    "    sensor_image_att = models.ForeignKey(Sensor, related_name=\"sensor_images\", on_delete=models.CASCADE)\n",
    "    path_row_image_att = models.ForeignKey(PathRow, related_name=\"pathrow_images\", on_delete=models.CASCADE)\n",
    "    collection_image_att = models.ForeignKey(Collection, related_name=\"collection_images\", on_delete=models.CASCADE)\n",
    "    acquisition_date = models.DateTimeField()\n",
    "    "
   ]
  },
  {
   "cell_type": "markdown",
   "id": "e1e1ca42",
   "metadata": {},
   "source": [
    "**Make migrations and migrate to save changes and apply changes:**"
   ]
  },
  {
   "cell_type": "code",
   "execution_count": 25,
   "id": "c36fa4ae",
   "metadata": {},
   "outputs": [
    {
     "name": "stdout",
     "output_type": "stream",
     "text": [
      "Migrations for 'satellital_images':\n",
      "  satellital_images/migrations/0002_auto_20210715_1707.py\n",
      "    - Alter field path_row on pathrow\n"
     ]
    }
   ],
   "source": [
    "%%bash\n",
    "\n",
    "cd $HOME/example-django/myproj\n",
    "\n",
    "python3 manage.py makemigrations \n",
    "\n",
    "#python3 manage.py makemigrations satellital_images"
   ]
  },
  {
   "cell_type": "code",
   "execution_count": 26,
   "id": "d347f27b",
   "metadata": {},
   "outputs": [
    {
     "name": "stdout",
     "output_type": "stream",
     "text": [
      "Operations to perform:\n",
      "  Apply all migrations: admin, auth, contenttypes, satellital_images, sessions\n",
      "Running migrations:\n",
      "  Applying satellital_images.0002_auto_20210715_1707... OK\n"
     ]
    }
   ],
   "source": [
    "%%bash\n",
    "\n",
    "cd $HOME/example-django/myproj/\n",
    "\n",
    "python3 manage.py migrate"
   ]
  },
  {
   "cell_type": "markdown",
   "id": "e50e886f",
   "metadata": {},
   "source": [
    "**Another scene:**"
   ]
  },
  {
   "cell_type": "code",
   "execution_count": 27,
   "id": "7b3c8d3b",
   "metadata": {},
   "outputs": [],
   "source": [
    "scene_0 = {\"acquisitionDate\": \"2013-03-09\", \n",
    "           \"startTime\": \"2013-03-09\", \n",
    "           \"endTime\": \"2013-03-09\", \n",
    "           \"lowerLeftCoordinate\": {\"latitude\": 16.65451, \"longitude\": -100.89458}, \n",
    "           \"upperLeftCoordinate\": {\"latitude\": 18.37292, \"longitude\": -100.51363}, \n",
    "           \"upperRightCoordinate\": {\"latitude\": 18.03105, \"longitude\": -98.86481}, \n",
    "           \"lowerRightCoordinate\": {\"latitude\": 16.31592, \"longitude\": -99.26119}, \n",
    "           \"spatialFootprint\": {\"type\": \"Polygon\", \"coordinates\": [[[-100.89458, 16.65451], \n",
    "                                                                    [-99.26119, 16.31592], \n",
    "                                                                    [-98.86481, 18.03105], \n",
    "                                                                    [-100.51363, 18.37292], \n",
    "                                                                    [-100.89458, 16.65451]]]}, \n",
    "           \"sceneBounds\": \"-100.89458,16.31592,-98.86481,18.37292\", \n",
    "           \"browseUrl\": \"https://ims.cr.usgs.gov/browse/landsat_8_c1/2013/026/048/LT08_L1GT_026048_20130309_20170505_01_T2.jpg\",\n",
    "           \"dataAccessUrl\": \"https://earthexplorer.usgs.gov/metadata/full/landsat_8_c1/LT80260482013068LGN02/\",\n",
    "           \"downloadUrl\": \"https://earthexplorer.usgs.gov/download/external/options/landsat_8_c1/LT80260482013068LGN02/EE/\",\n",
    "           \"entityId\": \"LT80260482013068LGN02\",\n",
    "           \"displayId\": \"LT08_L1GT_026048_20130309_20170505_01_T2\",\n",
    "           \"metadataUrl\": \"https://earthexplorer.usgs.gov/metadata/full/landsat_8_c1/LT80260482013068LGN02/?responseType=viewXml\",\n",
    "           \"fgdcMetadataUrl\": \"https://earthexplorer.usgs.gov/metadata/fgdc/landsat_8_c1/LT80260482013068LGN02/\",\n",
    "           \"modifiedDate\": \"2013-03-09 17:01:29\",\n",
    "           \"orderUrl\": \"null\",\n",
    "           \"bulkOrdered\": \"false\",\n",
    "           \"ordered\": \"false\",\n",
    "           \"summary\": \"\"}"
   ]
  },
  {
   "cell_type": "code",
   "execution_count": 28,
   "id": "083dc43b",
   "metadata": {},
   "outputs": [],
   "source": [
    "download_url = scene_0[\"downloadUrl\"]\n",
    "d = scene_0[\"displayId\"]\n",
    "list_d = d.split(\"_\")\n",
    "sensor=list_d[0]\n",
    "pathrow = list_d[2]\n",
    "collection=list_d[5]\n",
    "acq_date = scene_0[\"acquisitionDate\"]"
   ]
  },
  {
   "cell_type": "code",
   "execution_count": 29,
   "id": "52ee5e3e",
   "metadata": {},
   "outputs": [
    {
     "data": {
      "text/plain": [
       "'026048'"
      ]
     },
     "execution_count": 29,
     "metadata": {},
     "output_type": "execute_result"
    }
   ],
   "source": [
    "pathrow"
   ]
  },
  {
   "cell_type": "code",
   "execution_count": 30,
   "id": "2ab462f4",
   "metadata": {},
   "outputs": [
    {
     "data": {
      "text/plain": [
       "'01'"
      ]
     },
     "execution_count": 30,
     "metadata": {},
     "output_type": "execute_result"
    }
   ],
   "source": [
    "collection"
   ]
  },
  {
   "cell_type": "code",
   "execution_count": 31,
   "id": "768c95b4",
   "metadata": {},
   "outputs": [
    {
     "data": {
      "text/plain": [
       "'LT08'"
      ]
     },
     "execution_count": 31,
     "metadata": {},
     "output_type": "execute_result"
    }
   ],
   "source": [
    "sensor"
   ]
  },
  {
   "cell_type": "code",
   "execution_count": 32,
   "id": "89ade192",
   "metadata": {},
   "outputs": [],
   "source": [
    "coll = Collection.objects.get_or_create(collection_type=collection)\n",
    "pr = PathRow.objects.get_or_create(path_row=pathrow)\n",
    "sen = Sensor.objects.get_or_create(sensor_type=sensor)"
   ]
  },
  {
   "cell_type": "code",
   "execution_count": 33,
   "id": "aedfe65b",
   "metadata": {},
   "outputs": [
    {
     "data": {
      "text/plain": [
       "(<Collection: Collection object (1)>, False)"
      ]
     },
     "execution_count": 33,
     "metadata": {},
     "output_type": "execute_result"
    }
   ],
   "source": [
    "coll"
   ]
  },
  {
   "cell_type": "code",
   "execution_count": 34,
   "id": "85d1e1a1",
   "metadata": {},
   "outputs": [
    {
     "data": {
      "text/plain": [
       "(<PathRow: PathRow object (2)>, True)"
      ]
     },
     "execution_count": 34,
     "metadata": {},
     "output_type": "execute_result"
    }
   ],
   "source": [
    "pr"
   ]
  },
  {
   "cell_type": "code",
   "execution_count": 35,
   "id": "cd1f2e4e",
   "metadata": {},
   "outputs": [
    {
     "data": {
      "text/plain": [
       "(<Sensor: Sensor object (1)>, False)"
      ]
     },
     "execution_count": 35,
     "metadata": {},
     "output_type": "execute_result"
    }
   ],
   "source": [
    "sen"
   ]
  },
  {
   "cell_type": "markdown",
   "id": "9bd3d1bc",
   "metadata": {},
   "source": [
    "**True was created a new row, False just get the row**"
   ]
  },
  {
   "cell_type": "code",
   "execution_count": 36,
   "id": "2f5bcec5",
   "metadata": {},
   "outputs": [],
   "source": [
    "coll = coll[0]\n",
    "pr = pr[0]\n",
    "sen = sen[0]"
   ]
  },
  {
   "cell_type": "code",
   "execution_count": 37,
   "id": "79c9dbda",
   "metadata": {},
   "outputs": [],
   "source": [
    "#next set default to avoid SynchronousOnlyOperation error:\n",
    "#You cannot call this from an async context - use a thread or sync_to_async.\n",
    "os.environ.setdefault(\"DJANGO_ALLOW_ASYNC_UNSAFE\", \"true\")\n",
    "coll.save()\n",
    "pr.save()\n",
    "sen.save()\n",
    "sen.collection_att.add(coll)"
   ]
  },
  {
   "cell_type": "code",
   "execution_count": 38,
   "id": "50dbc581",
   "metadata": {},
   "outputs": [],
   "source": [
    "img = Image(download_url=download_url,\n",
    "            sensor_image_att=sen,\n",
    "            path_row_image_att=pr,\n",
    "            collection_image_att=coll,\n",
    "            acquisition_date=acq_date)"
   ]
  },
  {
   "cell_type": "code",
   "execution_count": 39,
   "id": "29d3a42a",
   "metadata": {},
   "outputs": [
    {
     "name": "stderr",
     "output_type": "stream",
     "text": [
      "/home/miuser/.local/lib/python3.6/site-packages/django/db/models/fields/__init__.py:1370: RuntimeWarning: DateTimeField Image.acquisition_date received a naive datetime (2013-03-09 00:00:00) while time zone support is active.\n",
      "  RuntimeWarning)\n"
     ]
    }
   ],
   "source": [
    "#next set default to avoid SynchronousOnlyOperation error:\n",
    "#You cannot call this from an async context - use a thread or sync_to_async.\n",
    "os.environ.setdefault(\"DJANGO_ALLOW_ASYNC_UNSAFE\", \"true\")\n",
    "img.save()"
   ]
  },
  {
   "cell_type": "code",
   "execution_count": 40,
   "id": "d2a25504",
   "metadata": {},
   "outputs": [
    {
     "name": "stdout",
     "output_type": "stream",
     "text": [
      "[('django_migrations',), ('sqlite_sequence',), ('auth_group_permissions',), ('auth_user_groups',), ('auth_user_user_permissions',), ('django_admin_log',), ('django_content_type',), ('auth_permission',), ('auth_group',), ('auth_user',), ('django_session',), ('satellital_images_collection',), ('satellital_images_sensor',), ('satellital_images_sensor_collection_att',), ('satellital_images_image',), ('satellital_images_pathrow',)]\n"
     ]
    }
   ],
   "source": [
    "connection = sqlite3.connect(\"db.sqlite3\")\n",
    "cursor = connection.cursor()\n",
    "\n",
    "cursor.execute(\"SELECT name FROM sqlite_master WHERE type='table';\")\n",
    "\n",
    "print(cursor.fetchall())"
   ]
  },
  {
   "cell_type": "markdown",
   "id": "0da10b88",
   "metadata": {},
   "source": [
    "**Next just to check, normally is not necessary to execute:**"
   ]
  },
  {
   "cell_type": "code",
   "execution_count": 41,
   "id": "92dc8116",
   "metadata": {},
   "outputs": [
    {
     "name": "stdout",
     "output_type": "stream",
     "text": [
      "[(1, 'https://earthexplorer.usgs.gov/download/external/options/landsat_8_c1/LT80260472013068LGN02/EE/', '2013-03-09 00:00:00', 1, 1, 1), (2, 'https://earthexplorer.usgs.gov/download/external/options/landsat_8_c1/LT80260482013068LGN02/EE/', '2013-03-09 00:00:00', 1, 2, 1)]\n"
     ]
    }
   ],
   "source": [
    "rows = cursor.execute(\"SELECT * FROM satellital_images_image\").fetchall()\n",
    "print(rows)"
   ]
  },
  {
   "cell_type": "code",
   "execution_count": 42,
   "id": "7e186629",
   "metadata": {},
   "outputs": [
    {
     "name": "stdout",
     "output_type": "stream",
     "text": [
      "[(1, '01')]\n"
     ]
    }
   ],
   "source": [
    "rows = cursor.execute(\"SELECT * FROM satellital_images_collection\").fetchall()\n",
    "print(rows)"
   ]
  },
  {
   "cell_type": "code",
   "execution_count": 43,
   "id": "8d0d809b",
   "metadata": {},
   "outputs": [
    {
     "name": "stdout",
     "output_type": "stream",
     "text": [
      "[(1, 'LT08')]\n"
     ]
    }
   ],
   "source": [
    "rows = cursor.execute(\"SELECT * FROM satellital_images_sensor\").fetchall()\n",
    "print(rows)"
   ]
  },
  {
   "cell_type": "code",
   "execution_count": 44,
   "id": "23330d95",
   "metadata": {},
   "outputs": [
    {
     "name": "stdout",
     "output_type": "stream",
     "text": [
      "[(1, 1, 1)]\n"
     ]
    }
   ],
   "source": [
    "rows = cursor.execute(\"SELECT * FROM satellital_images_sensor_collection_att\").fetchall()\n",
    "print(rows)"
   ]
  },
  {
   "cell_type": "code",
   "execution_count": 45,
   "id": "9dc555bd",
   "metadata": {},
   "outputs": [
    {
     "name": "stdout",
     "output_type": "stream",
     "text": [
      "[(1, '26047'), (2, '26048')]\n"
     ]
    }
   ],
   "source": [
    "rows = cursor.execute(\"SELECT * FROM satellital_images_pathrow\").fetchall()\n",
    "print(rows)"
   ]
  },
  {
   "cell_type": "markdown",
   "id": "e31ff00b",
   "metadata": {},
   "source": [
    "**Some queries:**"
   ]
  },
  {
   "cell_type": "markdown",
   "id": "e7bb0f31",
   "metadata": {},
   "source": [
    "**Get `download_url`, `path_row_att`, `acquisition_date` of images related to `LT08` sensor**"
   ]
  },
  {
   "cell_type": "code",
   "execution_count": 46,
   "id": "2d854d1d",
   "metadata": {},
   "outputs": [
    {
     "data": {
      "text/plain": [
       "<QuerySet [<Sensor: Sensor object (1)>]>"
      ]
     },
     "execution_count": 46,
     "metadata": {},
     "output_type": "execute_result"
    }
   ],
   "source": [
    "Sensor.objects.filter(sensor_type=\"LT08\")"
   ]
  },
  {
   "cell_type": "code",
   "execution_count": 47,
   "id": "24e8bef4",
   "metadata": {},
   "outputs": [],
   "source": [
    "qs = Sensor.objects.filter(sensor_type=\"LT08\")"
   ]
  },
  {
   "cell_type": "code",
   "execution_count": 48,
   "id": "1af89b14",
   "metadata": {},
   "outputs": [],
   "source": [
    "r = qs[0]"
   ]
  },
  {
   "cell_type": "code",
   "execution_count": 49,
   "id": "ed075fe5",
   "metadata": {},
   "outputs": [
    {
     "data": {
      "text/plain": [
       "<QuerySet [<Image: Image object (1)>, <Image: Image object (2)>]>"
      ]
     },
     "execution_count": 49,
     "metadata": {},
     "output_type": "execute_result"
    }
   ],
   "source": [
    "r.sensor_images.distinct()"
   ]
  },
  {
   "cell_type": "code",
   "execution_count": 50,
   "id": "e3e0b696",
   "metadata": {},
   "outputs": [],
   "source": [
    "qs = r.sensor_images.distinct()"
   ]
  },
  {
   "cell_type": "code",
   "execution_count": 51,
   "id": "2686562e",
   "metadata": {},
   "outputs": [
    {
     "name": "stdout",
     "output_type": "stream",
     "text": [
      "https://earthexplorer.usgs.gov/download/external/options/landsat_8_c1/LT80260472013068LGN02/EE/\n",
      "26047\n",
      "2013-03-09 00:00:00+00:00\n",
      "https://earthexplorer.usgs.gov/download/external/options/landsat_8_c1/LT80260482013068LGN02/EE/\n",
      "26048\n",
      "2013-03-09 00:00:00+00:00\n"
     ]
    }
   ],
   "source": [
    "for im in qs:\n",
    "    print(im.download_url)\n",
    "    print(im.path_row_image_att.path_row)\n",
    "    print(im.acquisition_date)"
   ]
  },
  {
   "cell_type": "markdown",
   "id": "55243ef0",
   "metadata": {},
   "source": [
    "**Access some `Collection` objects related to `Sensor` or `Image`:**"
   ]
  },
  {
   "cell_type": "code",
   "execution_count": 52,
   "id": "dce10080",
   "metadata": {},
   "outputs": [
    {
     "data": {
      "text/plain": [
       "<QuerySet [<Sensor_collection_att: Sensor_collection_att object (1)>]>"
      ]
     },
     "execution_count": 52,
     "metadata": {},
     "output_type": "execute_result"
    }
   ],
   "source": [
    "Sensor.collection_att.through.objects.all()"
   ]
  },
  {
   "cell_type": "code",
   "execution_count": 53,
   "id": "6d124b28",
   "metadata": {},
   "outputs": [],
   "source": [
    "r = Sensor.collection_att.through.objects.all()[0]"
   ]
  },
  {
   "cell_type": "code",
   "execution_count": 54,
   "id": "6da7227b",
   "metadata": {},
   "outputs": [
    {
     "data": {
      "text/plain": [
       "1"
      ]
     },
     "execution_count": 54,
     "metadata": {},
     "output_type": "execute_result"
    }
   ],
   "source": [
    "r.collection_id"
   ]
  },
  {
   "cell_type": "code",
   "execution_count": 55,
   "id": "91608c06",
   "metadata": {},
   "outputs": [
    {
     "data": {
      "text/plain": [
       "<QuerySet [<Image: Image object (1)>, <Image: Image object (2)>]>"
      ]
     },
     "execution_count": 55,
     "metadata": {},
     "output_type": "execute_result"
    }
   ],
   "source": [
    "r.collection.collection_images.distinct()"
   ]
  },
  {
   "cell_type": "code",
   "execution_count": 56,
   "id": "079e7372",
   "metadata": {},
   "outputs": [
    {
     "data": {
      "text/plain": [
       "'01'"
      ]
     },
     "execution_count": 56,
     "metadata": {},
     "output_type": "execute_result"
    }
   ],
   "source": [
    "r.collection.collection_type"
   ]
  },
  {
   "cell_type": "markdown",
   "id": "a0326f53",
   "metadata": {},
   "source": [
    "**Filter**"
   ]
  },
  {
   "cell_type": "code",
   "execution_count": 57,
   "id": "f287ab32",
   "metadata": {},
   "outputs": [
    {
     "data": {
      "text/plain": [
       "<QuerySet [<Sensor_collection_att: Sensor_collection_att object (1)>]>"
      ]
     },
     "execution_count": 57,
     "metadata": {},
     "output_type": "execute_result"
    }
   ],
   "source": [
    "Sensor.collection_att.through.objects.filter(collection=\"01\")"
   ]
  },
  {
   "cell_type": "code",
   "execution_count": 58,
   "id": "8b647653",
   "metadata": {},
   "outputs": [],
   "source": [
    "r = Sensor.collection_att.through.objects.filter(collection=\"01\")[0]"
   ]
  },
  {
   "cell_type": "code",
   "execution_count": 59,
   "id": "25ef651e",
   "metadata": {},
   "outputs": [
    {
     "data": {
      "text/plain": [
       "<QuerySet [<Image: Image object (1)>, <Image: Image object (2)>]>"
      ]
     },
     "execution_count": 59,
     "metadata": {},
     "output_type": "execute_result"
    }
   ],
   "source": [
    "r.collection.collection_images.distinct()"
   ]
  },
  {
   "cell_type": "code",
   "execution_count": 60,
   "id": "f5efafe2",
   "metadata": {},
   "outputs": [
    {
     "data": {
      "text/plain": [
       "'01'"
      ]
     },
     "execution_count": 60,
     "metadata": {},
     "output_type": "execute_result"
    }
   ],
   "source": [
    "r.collection.collection_type"
   ]
  },
  {
   "cell_type": "markdown",
   "id": "dec65ac9",
   "metadata": {},
   "source": [
    "**Another example for filter:**"
   ]
  },
  {
   "cell_type": "code",
   "execution_count": 61,
   "id": "a3fb7d01",
   "metadata": {},
   "outputs": [
    {
     "data": {
      "text/plain": [
       "<QuerySet [<Sensor_collection_att: Sensor_collection_att object (1)>]>"
      ]
     },
     "execution_count": 61,
     "metadata": {},
     "output_type": "execute_result"
    }
   ],
   "source": [
    "Sensor.collection_att.through.objects.filter(sensor__sensor_type=\"LT08\")"
   ]
  },
  {
   "cell_type": "code",
   "execution_count": 62,
   "id": "4c82ca61",
   "metadata": {},
   "outputs": [],
   "source": [
    "r = Sensor.collection_att.through.objects.filter(sensor__sensor_type=\"LT08\")[0]"
   ]
  },
  {
   "cell_type": "code",
   "execution_count": 63,
   "id": "eb6d74cc",
   "metadata": {},
   "outputs": [
    {
     "data": {
      "text/plain": [
       "<Sensor_collection_att: Sensor_collection_att object (1)>"
      ]
     },
     "execution_count": 63,
     "metadata": {},
     "output_type": "execute_result"
    }
   ],
   "source": [
    "r"
   ]
  },
  {
   "cell_type": "code",
   "execution_count": 64,
   "id": "46ffe85e",
   "metadata": {},
   "outputs": [
    {
     "data": {
      "text/plain": [
       "<Sensor: Sensor object (1)>"
      ]
     },
     "execution_count": 64,
     "metadata": {},
     "output_type": "execute_result"
    }
   ],
   "source": [
    "r.sensor"
   ]
  },
  {
   "cell_type": "code",
   "execution_count": 65,
   "id": "7611efd9",
   "metadata": {},
   "outputs": [
    {
     "data": {
      "text/plain": [
       "'LT08'"
      ]
     },
     "execution_count": 65,
     "metadata": {},
     "output_type": "execute_result"
    }
   ],
   "source": [
    "r.sensor.sensor_type"
   ]
  },
  {
   "cell_type": "code",
   "execution_count": 66,
   "id": "2c0de7cc",
   "metadata": {},
   "outputs": [
    {
     "data": {
      "text/plain": [
       "<QuerySet [<Image: Image object (1)>, <Image: Image object (2)>]>"
      ]
     },
     "execution_count": 66,
     "metadata": {},
     "output_type": "execute_result"
    }
   ],
   "source": [
    "r.sensor.sensor_images.distinct()"
   ]
  },
  {
   "cell_type": "code",
   "execution_count": 67,
   "id": "fdae0720",
   "metadata": {},
   "outputs": [
    {
     "data": {
      "text/plain": [
       "1"
      ]
     },
     "execution_count": 67,
     "metadata": {},
     "output_type": "execute_result"
    }
   ],
   "source": [
    "r.sensor_id"
   ]
  },
  {
   "cell_type": "code",
   "execution_count": 68,
   "id": "be9dd260",
   "metadata": {},
   "outputs": [
    {
     "data": {
      "text/plain": [
       "<QuerySet [<Image: Image object (1)>, <Image: Image object (2)>]>"
      ]
     },
     "execution_count": 68,
     "metadata": {},
     "output_type": "execute_result"
    }
   ],
   "source": [
    "r.collection.collection_images.distinct()"
   ]
  },
  {
   "cell_type": "markdown",
   "id": "2d80c3d4",
   "metadata": {},
   "source": [
    "**Get `download_url`, `path_row_att`, `acquisition_date` of images related to `LT08` sensor from many to many relation**"
   ]
  },
  {
   "cell_type": "code",
   "execution_count": 69,
   "id": "7e9a6f64",
   "metadata": {},
   "outputs": [],
   "source": [
    "qs = r.collection.collection_images.distinct()"
   ]
  },
  {
   "cell_type": "code",
   "execution_count": 70,
   "id": "a6ac5f28",
   "metadata": {},
   "outputs": [
    {
     "name": "stdout",
     "output_type": "stream",
     "text": [
      "https://earthexplorer.usgs.gov/download/external/options/landsat_8_c1/LT80260472013068LGN02/EE/\n",
      "26047\n",
      "2013-03-09 00:00:00+00:00\n",
      "https://earthexplorer.usgs.gov/download/external/options/landsat_8_c1/LT80260482013068LGN02/EE/\n",
      "26048\n",
      "2013-03-09 00:00:00+00:00\n"
     ]
    }
   ],
   "source": [
    "for im in qs:\n",
    "    print(im.download_url)\n",
    "    print(im.path_row_image_att.path_row)\n",
    "    print(im.acquisition_date)"
   ]
  },
  {
   "cell_type": "markdown",
   "id": "32e486a4",
   "metadata": {},
   "source": [
    "# For data:"
   ]
  },
  {
   "cell_type": "markdown",
   "id": "8511e9c3",
   "metadata": {},
   "source": [
    "Using: https://github.com/loicdtx/lsru/"
   ]
  },
  {
   "cell_type": "code",
   "execution_count": null,
   "id": "048ffa23",
   "metadata": {},
   "outputs": [],
   "source": [
    "!pip install lsru"
   ]
  },
  {
   "cell_type": "code",
   "execution_count": 1,
   "id": "bbf2d7a0",
   "metadata": {},
   "outputs": [],
   "source": [
    "from lsru import Usgs\n",
    "import datetime"
   ]
  },
  {
   "cell_type": "code",
   "execution_count": 54,
   "id": "bce18911",
   "metadata": {},
   "outputs": [
    {
     "data": {
      "text/plain": [
       "True"
      ]
     },
     "execution_count": 54,
     "metadata": {},
     "output_type": "execute_result"
    }
   ],
   "source": [
    "# Instantiate Usgs class and login\n",
    "usgs = Usgs()\n",
    "usgs.login()"
   ]
  },
  {
   "cell_type": "code",
   "execution_count": 7,
   "id": "e24e069c",
   "metadata": {},
   "outputs": [
    {
     "data": {
      "text/plain": [
       "['LANDSAT_TM_C1', 'LANDSAT_TM_C1', 'LANDSAT_ETM_C1', 'LANDSAT_8_C1']"
      ]
     },
     "execution_count": 7,
     "metadata": {},
     "output_type": "execute_result"
    }
   ],
   "source": [
    "[usgs.get_collection_name(k) for k in [4, 5, 7, 8]]"
   ]
  },
  {
   "cell_type": "code",
   "execution_count": 19,
   "id": "11f0b437",
   "metadata": {},
   "outputs": [],
   "source": [
    "# Define query extent\n",
    "#long, lat, long, lat\n",
    "bbox = (-119.0, 14.0, -84.0, 33.0)"
   ]
  },
  {
   "cell_type": "code",
   "execution_count": 59,
   "id": "818e04b8",
   "metadata": {},
   "outputs": [],
   "source": [
    "# Query the Usgs api to find scene intersecting with the spatio-temporal window\n",
    "scene_list = usgs.search(collection='LANDSAT_8_C1',\n",
    "                         bbox=bbox,\n",
    "                         begin=datetime.datetime(2013,1,1),\n",
    "                         end=datetime.datetime(2016,1,1),\n",
    "                         max_results=10,\n",
    "                         max_cloud_cover=40)\n"
   ]
  },
  {
   "cell_type": "code",
   "execution_count": 60,
   "id": "81364fc0",
   "metadata": {},
   "outputs": [],
   "source": [
    "import json"
   ]
  },
  {
   "cell_type": "code",
   "execution_count": 61,
   "id": "f3376748",
   "metadata": {},
   "outputs": [],
   "source": [
    "i = 0\n",
    "for i,scene in enumerate(scene_list):\n",
    "    with open(\"scene\" + str(i) + \".txt\", 'w') as f:\n",
    "        json.dump(scene, f)\n",
    "        i+=1"
   ]
  },
  {
   "cell_type": "code",
   "execution_count": 63,
   "id": "1aeb33b1",
   "metadata": {},
   "outputs": [],
   "source": [
    "# Query the Usgs api to find scene intersecting with the spatio-temporal window\n",
    "scene_list2 = usgs.search(collection='LANDSAT_ETM_C1',\n",
    "                         bbox=bbox,\n",
    "                         begin=datetime.datetime(2013,1,1),\n",
    "                         end=datetime.datetime(2016,1,1),\n",
    "                         max_results=5,\n",
    "                         max_cloud_cover=40)\n"
   ]
  },
  {
   "cell_type": "code",
   "execution_count": 70,
   "id": "5f2a3597",
   "metadata": {},
   "outputs": [
    {
     "name": "stdout",
     "output_type": "stream",
     "text": [
      "10\n",
      "11\n",
      "12\n",
      "13\n",
      "14\n"
     ]
    }
   ],
   "source": [
    "for i,scene in enumerate(scene_list2,start=i):\n",
    "    with open(\"/datos/example-django/scene\" + str(i) + \".txt\", 'w') as f:\n",
    "        json.dump(scene, f)\n",
    "        i+=1"
   ]
  },
  {
   "cell_type": "markdown",
   "id": "9b60dbe1",
   "metadata": {},
   "source": [
    "# Some references\n",
    "\n",
    "* https://stackoverflow.com/questions/25205228/django-autofield-with-primary-key-vs-default-pk\n",
    "\n",
    "* https://stackoverflow.com/questions/21986917/running-inspectdb-on-a-specific-schema\n",
    "\n",
    "* https://docs.djangoproject.com/en/3.1/ref/django-admin/#inspectdb\n"
   ]
  }
 ],
 "metadata": {
  "kernelspec": {
   "display_name": "Python 3",
   "language": "python",
   "name": "python3"
  },
  "language_info": {
   "codemirror_mode": {
    "name": "ipython",
    "version": 3
   },
   "file_extension": ".py",
   "mimetype": "text/x-python",
   "name": "python",
   "nbconvert_exporter": "python",
   "pygments_lexer": "ipython3",
   "version": "3.6.9"
  }
 },
 "nbformat": 4,
 "nbformat_minor": 5
}
